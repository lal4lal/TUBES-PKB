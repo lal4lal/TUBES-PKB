{
 "cells": [
  {
   "cell_type": "markdown",
   "id": "0998ab93",
   "metadata": {
    "id": "0998ab93"
   },
   "source": [
    "# <center>Assessment CLO-3: Tugas Pemrograman Learning</center>"
   ]
  },
  {
   "cell_type": "markdown",
   "id": "b9dd2c3d",
   "metadata": {
    "id": "b9dd2c3d"
   },
   "source": [
    "<b>Topik</b>\n",
    "\n",
    "Regresi pada dataset Abalone menggunakan k-Nearest Neighbor\n",
    "\n",
    "<b>Kelompok: 8</b>\n",
    "\n",
    "Anggota:\n",
    "1. MUHAMMAD HILAL ABYAN - 1301223262\n",
    "2. NAILA ATHAYA MUMTAZ - 1301223281\n",
    "3. HANUM FADIANNUR - 1301223380"
   ]
  },
  {
   "cell_type": "markdown",
   "id": "f67c8e8d",
   "metadata": {
    "id": "f67c8e8d"
   },
   "source": [
    "#### Pendahuluan\n",
    "**DATASET INTRODUCTION**\n",
    "\n",
    "Dataset yang kelompok kami pilih adalah data tentang ukuran fisik Abalone terdiri dari:\n",
    "1. Sex - M (Male), F (Female), and I (infant)\n",
    "2. Length - Longest shell measurement\n",
    "3. Diameter - perpendicular to length\n",
    "4. Height - with meat in shell\n",
    "5. Whole weight - whole abalone\n",
    "6. Shucked weight - weight of meat\n",
    "7. Viscera weight - gut weight (after bleeding)\n",
    "8. Shell weight - after being dried\n",
    "Sebagai Independent Attribute dan\n",
    "9. Rings - +1.5 gives the age in years\n",
    "Sebagai Dependent Attribute\n",
    "\n",
    "**MASALAH YANG AKAN DISELESAIKAN**\n",
    "\n",
    "Permasalahan yang dihadapi adalah untuk menentukan umur abalon dilakukan dengan cara memotong cangkang melalui kerucut, mewarnainya, dan menghitung jumlah cincin melalui mikroskop. Hal ini merupakan kegiatan yang memakan banyak waktu. Dengan menggunakan data pengukuran fisik abalon, kita dapat memprediksi umur abalon.\n",
    "\n",
    "**DATASET SPLITTING**\n",
    "\n",
    "Pembagian data dilakukan dengan membagi dataset menjadi data training dan data test dengan ukuran data training adalah 80% dari jumlah dataset dan data test adalah 20% data sisanya.\n",
    "\n",
    "**DATA PREPROCESSING**\n",
    "\n",
    "Pengolahan data yang akan dilakukan adalah:\n",
    "*   Melihat korelasi antar nilai features dengan target\n",
    "*   Memilih feature yang sesuai untuk model\n",
    "*   Menangani nilai outlier\n",
    "*   Melakukan normalisasi data\n",
    "*   Mengecek apakah terdapat missing value atau NaN\n",
    "\n"
   ]
  },
  {
   "cell_type": "markdown",
   "id": "X0IyPe_n0LcV",
   "metadata": {
    "id": "X0IyPe_n0LcV"
   },
   "source": [
    "**Import Dataset**"
   ]
  },
  {
   "cell_type": "code",
   "execution_count": 5,
   "id": "gWtzhxomTrZe",
   "metadata": {
    "id": "gWtzhxomTrZe"
   },
   "outputs": [
    {
     "name": "stdout",
     "output_type": "stream",
     "text": [
      "Requirement already satisfied: ucimlrepo in /opt/anaconda3/lib/python3.11/site-packages (0.0.7)\n",
      "Requirement already satisfied: pandas>=1.0.0 in /opt/anaconda3/lib/python3.11/site-packages (from ucimlrepo) (2.1.4)\n",
      "Requirement already satisfied: certifi>=2020.12.5 in /opt/anaconda3/lib/python3.11/site-packages (from ucimlrepo) (2024.2.2)\n",
      "Requirement already satisfied: numpy<2,>=1.23.2 in /opt/anaconda3/lib/python3.11/site-packages (from pandas>=1.0.0->ucimlrepo) (1.26.4)\n",
      "Requirement already satisfied: python-dateutil>=2.8.2 in /opt/anaconda3/lib/python3.11/site-packages (from pandas>=1.0.0->ucimlrepo) (2.8.2)\n",
      "Requirement already satisfied: pytz>=2020.1 in /opt/anaconda3/lib/python3.11/site-packages (from pandas>=1.0.0->ucimlrepo) (2023.3.post1)\n",
      "Requirement already satisfied: tzdata>=2022.1 in /opt/anaconda3/lib/python3.11/site-packages (from pandas>=1.0.0->ucimlrepo) (2023.3)\n",
      "Requirement already satisfied: six>=1.5 in /opt/anaconda3/lib/python3.11/site-packages (from python-dateutil>=2.8.2->pandas>=1.0.0->ucimlrepo) (1.16.0)\n",
      "Note: you may need to restart the kernel to use updated packages.\n"
     ]
    }
   ],
   "source": [
    "pip install ucimlrepo"
   ]
  },
  {
   "cell_type": "code",
   "execution_count": 7,
   "id": "kAvFuZtvy1ei",
   "metadata": {
    "colab": {
     "base_uri": "https://localhost:8080/"
    },
    "id": "kAvFuZtvy1ei",
    "outputId": "6d95d13e-45c9-40e5-a890-5900dc7bb8a4"
   },
   "outputs": [
    {
     "name": "stdout",
     "output_type": "stream",
     "text": [
      "{'data': {'ids': None, 'features':      Sex  Length  Diameter  Height  Whole_weight  Shucked_weight  \\\n",
      "0      M   0.455     0.365   0.095        0.5140          0.2245   \n",
      "1      M   0.350     0.265   0.090        0.2255          0.0995   \n",
      "2      F   0.530     0.420   0.135        0.6770          0.2565   \n",
      "3      M   0.440     0.365   0.125        0.5160          0.2155   \n",
      "4      I   0.330     0.255   0.080        0.2050          0.0895   \n",
      "...   ..     ...       ...     ...           ...             ...   \n",
      "4172   F   0.565     0.450   0.165        0.8870          0.3700   \n",
      "4173   M   0.590     0.440   0.135        0.9660          0.4390   \n",
      "4174   M   0.600     0.475   0.205        1.1760          0.5255   \n",
      "4175   F   0.625     0.485   0.150        1.0945          0.5310   \n",
      "4176   M   0.710     0.555   0.195        1.9485          0.9455   \n",
      "\n",
      "      Viscera_weight  Shell_weight  \n",
      "0             0.1010        0.1500  \n",
      "1             0.0485        0.0700  \n",
      "2             0.1415        0.2100  \n",
      "3             0.1140        0.1550  \n",
      "4             0.0395        0.0550  \n",
      "...              ...           ...  \n",
      "4172          0.2390        0.2490  \n",
      "4173          0.2145        0.2605  \n",
      "4174          0.2875        0.3080  \n",
      "4175          0.2610        0.2960  \n",
      "4176          0.3765        0.4950  \n",
      "\n",
      "[4177 rows x 8 columns], 'targets':       Rings\n",
      "0        15\n",
      "1         7\n",
      "2         9\n",
      "3        10\n",
      "4         7\n",
      "...     ...\n",
      "4172     11\n",
      "4173     10\n",
      "4174      9\n",
      "4175     10\n",
      "4176     12\n",
      "\n",
      "[4177 rows x 1 columns], 'original':      Sex  Length  Diameter  Height  Whole_weight  Shucked_weight  \\\n",
      "0      M   0.455     0.365   0.095        0.5140          0.2245   \n",
      "1      M   0.350     0.265   0.090        0.2255          0.0995   \n",
      "2      F   0.530     0.420   0.135        0.6770          0.2565   \n",
      "3      M   0.440     0.365   0.125        0.5160          0.2155   \n",
      "4      I   0.330     0.255   0.080        0.2050          0.0895   \n",
      "...   ..     ...       ...     ...           ...             ...   \n",
      "4172   F   0.565     0.450   0.165        0.8870          0.3700   \n",
      "4173   M   0.590     0.440   0.135        0.9660          0.4390   \n",
      "4174   M   0.600     0.475   0.205        1.1760          0.5255   \n",
      "4175   F   0.625     0.485   0.150        1.0945          0.5310   \n",
      "4176   M   0.710     0.555   0.195        1.9485          0.9455   \n",
      "\n",
      "      Viscera_weight  Shell_weight  Rings  \n",
      "0             0.1010        0.1500     15  \n",
      "1             0.0485        0.0700      7  \n",
      "2             0.1415        0.2100      9  \n",
      "3             0.1140        0.1550     10  \n",
      "4             0.0395        0.0550      7  \n",
      "...              ...           ...    ...  \n",
      "4172          0.2390        0.2490     11  \n",
      "4173          0.2145        0.2605     10  \n",
      "4174          0.2875        0.3080      9  \n",
      "4175          0.2610        0.2960     10  \n",
      "4176          0.3765        0.4950     12  \n",
      "\n",
      "[4177 rows x 9 columns], 'headers': Index(['Sex', 'Length', 'Diameter', 'Height', 'Whole_weight', 'Shucked_weight',\n",
      "       'Viscera_weight', 'Shell_weight', 'Rings'],\n",
      "      dtype='object')}, 'metadata': {'uci_id': 1, 'name': 'Abalone', 'repository_url': 'https://archive.ics.uci.edu/dataset/1/abalone', 'data_url': 'https://archive.ics.uci.edu/static/public/1/data.csv', 'abstract': 'Predict the age of abalone from physical measurements', 'area': 'Biology', 'tasks': ['Classification', 'Regression'], 'characteristics': ['Tabular'], 'num_instances': 4177, 'num_features': 8, 'feature_types': ['Categorical', 'Integer', 'Real'], 'demographics': [], 'target_col': ['Rings'], 'index_col': None, 'has_missing_values': 'no', 'missing_values_symbol': None, 'year_of_dataset_creation': 1994, 'last_updated': 'Mon Aug 28 2023', 'dataset_doi': '10.24432/C55C7W', 'creators': ['Warwick Nash', 'Tracy Sellers', 'Simon Talbot', 'Andrew Cawthorn', 'Wes Ford'], 'intro_paper': None, 'additional_info': {'summary': 'Predicting the age of abalone from physical measurements.  The age of abalone is determined by cutting the shell through the cone, staining it, and counting the number of rings through a microscope -- a boring and time-consuming task.  Other measurements, which are easier to obtain, are used to predict the age.  Further information, such as weather patterns and location (hence food availability) may be required to solve the problem.\\r\\n\\r\\nFrom the original data examples with missing values were removed (the majority having the predicted value missing), and the ranges of the continuous values have been scaled for use with an ANN (by dividing by 200).', 'purpose': None, 'funded_by': None, 'instances_represent': None, 'recommended_data_splits': None, 'sensitive_data': None, 'preprocessing_description': None, 'variable_info': 'Given is the attribute name, attribute type, the measurement unit and a brief description.  The number of rings is the value to predict: either as a continuous value or as a classification problem.\\r\\n\\r\\nName / Data Type / Measurement Unit / Description\\r\\n-----------------------------\\r\\nSex / nominal / -- / M, F, and I (infant)\\r\\nLength / continuous / mm / Longest shell measurement\\r\\nDiameter\\t/ continuous / mm / perpendicular to length\\r\\nHeight / continuous / mm / with meat in shell\\r\\nWhole weight / continuous / grams / whole abalone\\r\\nShucked weight / continuous\\t / grams / weight of meat\\r\\nViscera weight / continuous / grams / gut weight (after bleeding)\\r\\nShell weight / continuous / grams / after being dried\\r\\nRings / integer / -- / +1.5 gives the age in years\\r\\n\\r\\nThe readme file contains attribute statistics.', 'citation': None}}, 'variables':              name     role         type demographic  \\\n",
      "0             Sex  Feature  Categorical        None   \n",
      "1          Length  Feature   Continuous        None   \n",
      "2        Diameter  Feature   Continuous        None   \n",
      "3          Height  Feature   Continuous        None   \n",
      "4    Whole_weight  Feature   Continuous        None   \n",
      "5  Shucked_weight  Feature   Continuous        None   \n",
      "6  Viscera_weight  Feature   Continuous        None   \n",
      "7    Shell_weight  Feature   Continuous        None   \n",
      "8           Rings   Target      Integer        None   \n",
      "\n",
      "                   description  units missing_values  \n",
      "0         M, F, and I (infant)   None             no  \n",
      "1    Longest shell measurement     mm             no  \n",
      "2      perpendicular to length     mm             no  \n",
      "3           with meat in shell     mm             no  \n",
      "4                whole abalone  grams             no  \n",
      "5               weight of meat  grams             no  \n",
      "6  gut weight (after bleeding)  grams             no  \n",
      "7            after being dried  grams             no  \n",
      "8  +1.5 gives the age in years   None             no  }\n"
     ]
    }
   ],
   "source": [
    "# Melakukan import dataset\n",
    "from ucimlrepo import fetch_ucirepo\n",
    "\n",
    "abalone = fetch_ucirepo('Abalone')\n",
    "print(abalone)"
   ]
  },
  {
   "cell_type": "code",
   "execution_count": 9,
   "id": "ZZv-Wzgvy7vI",
   "metadata": {
    "id": "ZZv-Wzgvy7vI"
   },
   "outputs": [],
   "source": [
    "# Import library yang dibutuhkan\n",
    "import matplotlib.pyplot as plt\n",
    "import seaborn as sns\n",
    "import pandas as pd\n",
    "import numpy as np\n",
    "import math\n",
    "from sklearn.metrics import r2_score, mean_squared_error\n",
    "from sklearn.preprocessing import Normalizer"
   ]
  },
  {
   "cell_type": "markdown",
   "id": "C1I9lzRX0I4c",
   "metadata": {
    "id": "C1I9lzRX0I4c"
   },
   "source": [
    "**Data Exploration**"
   ]
  },
  {
   "cell_type": "code",
   "execution_count": 12,
   "id": "IDgo3J2Ny_CX",
   "metadata": {
    "colab": {
     "base_uri": "https://localhost:8080/",
     "height": 424
    },
    "id": "IDgo3J2Ny_CX",
    "outputId": "8d4f8779-63b5-46f0-cf86-32574e89ad81"
   },
   "outputs": [
    {
     "data": {
      "text/html": [
       "<div>\n",
       "<style scoped>\n",
       "    .dataframe tbody tr th:only-of-type {\n",
       "        vertical-align: middle;\n",
       "    }\n",
       "\n",
       "    .dataframe tbody tr th {\n",
       "        vertical-align: top;\n",
       "    }\n",
       "\n",
       "    .dataframe thead th {\n",
       "        text-align: right;\n",
       "    }\n",
       "</style>\n",
       "<table border=\"1\" class=\"dataframe\">\n",
       "  <thead>\n",
       "    <tr style=\"text-align: right;\">\n",
       "      <th></th>\n",
       "      <th>Sex</th>\n",
       "      <th>Length</th>\n",
       "      <th>Diameter</th>\n",
       "      <th>Height</th>\n",
       "      <th>Whole_weight</th>\n",
       "      <th>Shucked_weight</th>\n",
       "      <th>Viscera_weight</th>\n",
       "      <th>Shell_weight</th>\n",
       "      <th>Rings</th>\n",
       "    </tr>\n",
       "  </thead>\n",
       "  <tbody>\n",
       "    <tr>\n",
       "      <th>0</th>\n",
       "      <td>M</td>\n",
       "      <td>0.455</td>\n",
       "      <td>0.365</td>\n",
       "      <td>0.095</td>\n",
       "      <td>0.5140</td>\n",
       "      <td>0.2245</td>\n",
       "      <td>0.1010</td>\n",
       "      <td>0.1500</td>\n",
       "      <td>15</td>\n",
       "    </tr>\n",
       "    <tr>\n",
       "      <th>1</th>\n",
       "      <td>M</td>\n",
       "      <td>0.350</td>\n",
       "      <td>0.265</td>\n",
       "      <td>0.090</td>\n",
       "      <td>0.2255</td>\n",
       "      <td>0.0995</td>\n",
       "      <td>0.0485</td>\n",
       "      <td>0.0700</td>\n",
       "      <td>7</td>\n",
       "    </tr>\n",
       "    <tr>\n",
       "      <th>2</th>\n",
       "      <td>F</td>\n",
       "      <td>0.530</td>\n",
       "      <td>0.420</td>\n",
       "      <td>0.135</td>\n",
       "      <td>0.6770</td>\n",
       "      <td>0.2565</td>\n",
       "      <td>0.1415</td>\n",
       "      <td>0.2100</td>\n",
       "      <td>9</td>\n",
       "    </tr>\n",
       "    <tr>\n",
       "      <th>3</th>\n",
       "      <td>M</td>\n",
       "      <td>0.440</td>\n",
       "      <td>0.365</td>\n",
       "      <td>0.125</td>\n",
       "      <td>0.5160</td>\n",
       "      <td>0.2155</td>\n",
       "      <td>0.1140</td>\n",
       "      <td>0.1550</td>\n",
       "      <td>10</td>\n",
       "    </tr>\n",
       "    <tr>\n",
       "      <th>4</th>\n",
       "      <td>I</td>\n",
       "      <td>0.330</td>\n",
       "      <td>0.255</td>\n",
       "      <td>0.080</td>\n",
       "      <td>0.2050</td>\n",
       "      <td>0.0895</td>\n",
       "      <td>0.0395</td>\n",
       "      <td>0.0550</td>\n",
       "      <td>7</td>\n",
       "    </tr>\n",
       "    <tr>\n",
       "      <th>...</th>\n",
       "      <td>...</td>\n",
       "      <td>...</td>\n",
       "      <td>...</td>\n",
       "      <td>...</td>\n",
       "      <td>...</td>\n",
       "      <td>...</td>\n",
       "      <td>...</td>\n",
       "      <td>...</td>\n",
       "      <td>...</td>\n",
       "    </tr>\n",
       "    <tr>\n",
       "      <th>4172</th>\n",
       "      <td>F</td>\n",
       "      <td>0.565</td>\n",
       "      <td>0.450</td>\n",
       "      <td>0.165</td>\n",
       "      <td>0.8870</td>\n",
       "      <td>0.3700</td>\n",
       "      <td>0.2390</td>\n",
       "      <td>0.2490</td>\n",
       "      <td>11</td>\n",
       "    </tr>\n",
       "    <tr>\n",
       "      <th>4173</th>\n",
       "      <td>M</td>\n",
       "      <td>0.590</td>\n",
       "      <td>0.440</td>\n",
       "      <td>0.135</td>\n",
       "      <td>0.9660</td>\n",
       "      <td>0.4390</td>\n",
       "      <td>0.2145</td>\n",
       "      <td>0.2605</td>\n",
       "      <td>10</td>\n",
       "    </tr>\n",
       "    <tr>\n",
       "      <th>4174</th>\n",
       "      <td>M</td>\n",
       "      <td>0.600</td>\n",
       "      <td>0.475</td>\n",
       "      <td>0.205</td>\n",
       "      <td>1.1760</td>\n",
       "      <td>0.5255</td>\n",
       "      <td>0.2875</td>\n",
       "      <td>0.3080</td>\n",
       "      <td>9</td>\n",
       "    </tr>\n",
       "    <tr>\n",
       "      <th>4175</th>\n",
       "      <td>F</td>\n",
       "      <td>0.625</td>\n",
       "      <td>0.485</td>\n",
       "      <td>0.150</td>\n",
       "      <td>1.0945</td>\n",
       "      <td>0.5310</td>\n",
       "      <td>0.2610</td>\n",
       "      <td>0.2960</td>\n",
       "      <td>10</td>\n",
       "    </tr>\n",
       "    <tr>\n",
       "      <th>4176</th>\n",
       "      <td>M</td>\n",
       "      <td>0.710</td>\n",
       "      <td>0.555</td>\n",
       "      <td>0.195</td>\n",
       "      <td>1.9485</td>\n",
       "      <td>0.9455</td>\n",
       "      <td>0.3765</td>\n",
       "      <td>0.4950</td>\n",
       "      <td>12</td>\n",
       "    </tr>\n",
       "  </tbody>\n",
       "</table>\n",
       "<p>4177 rows × 9 columns</p>\n",
       "</div>"
      ],
      "text/plain": [
       "     Sex  Length  Diameter  Height  Whole_weight  Shucked_weight  \\\n",
       "0      M   0.455     0.365   0.095        0.5140          0.2245   \n",
       "1      M   0.350     0.265   0.090        0.2255          0.0995   \n",
       "2      F   0.530     0.420   0.135        0.6770          0.2565   \n",
       "3      M   0.440     0.365   0.125        0.5160          0.2155   \n",
       "4      I   0.330     0.255   0.080        0.2050          0.0895   \n",
       "...   ..     ...       ...     ...           ...             ...   \n",
       "4172   F   0.565     0.450   0.165        0.8870          0.3700   \n",
       "4173   M   0.590     0.440   0.135        0.9660          0.4390   \n",
       "4174   M   0.600     0.475   0.205        1.1760          0.5255   \n",
       "4175   F   0.625     0.485   0.150        1.0945          0.5310   \n",
       "4176   M   0.710     0.555   0.195        1.9485          0.9455   \n",
       "\n",
       "      Viscera_weight  Shell_weight  Rings  \n",
       "0             0.1010        0.1500     15  \n",
       "1             0.0485        0.0700      7  \n",
       "2             0.1415        0.2100      9  \n",
       "3             0.1140        0.1550     10  \n",
       "4             0.0395        0.0550      7  \n",
       "...              ...           ...    ...  \n",
       "4172          0.2390        0.2490     11  \n",
       "4173          0.2145        0.2605     10  \n",
       "4174          0.2875        0.3080      9  \n",
       "4175          0.2610        0.2960     10  \n",
       "4176          0.3765        0.4950     12  \n",
       "\n",
       "[4177 rows x 9 columns]"
      ]
     },
     "execution_count": 12,
     "metadata": {},
     "output_type": "execute_result"
    }
   ],
   "source": [
    "# Show your data in tabular or other visualization ways\n",
    "data = abalone.data.original\n",
    "data"
   ]
  },
  {
   "cell_type": "markdown",
   "id": "Mf4kmRPklCzX",
   "metadata": {
    "id": "Mf4kmRPklCzX"
   },
   "source": [
    "**ENCODING KOLOM SEX MENJADI M = 0, F = 1, I = 2**\n",
    "\n",
    "Komputer hanya dapat menerima sebuah angka dalam melakukan perhitungan, sehingga kolom yang bertipe object atau string harus diencode. Pada dataset abalone, kolom yang bertipe object adalah kolom sex."
   ]
  },
  {
   "cell_type": "code",
   "execution_count": 15,
   "id": "n5c4Ca_Szpt_",
   "metadata": {
    "id": "n5c4Ca_Szpt_"
   },
   "outputs": [
    {
     "data": {
      "text/html": [
       "<div>\n",
       "<style scoped>\n",
       "    .dataframe tbody tr th:only-of-type {\n",
       "        vertical-align: middle;\n",
       "    }\n",
       "\n",
       "    .dataframe tbody tr th {\n",
       "        vertical-align: top;\n",
       "    }\n",
       "\n",
       "    .dataframe thead th {\n",
       "        text-align: right;\n",
       "    }\n",
       "</style>\n",
       "<table border=\"1\" class=\"dataframe\">\n",
       "  <thead>\n",
       "    <tr style=\"text-align: right;\">\n",
       "      <th></th>\n",
       "      <th>Sex</th>\n",
       "      <th>Length</th>\n",
       "      <th>Diameter</th>\n",
       "      <th>Height</th>\n",
       "      <th>Whole_weight</th>\n",
       "      <th>Shucked_weight</th>\n",
       "      <th>Viscera_weight</th>\n",
       "      <th>Shell_weight</th>\n",
       "      <th>Rings</th>\n",
       "    </tr>\n",
       "  </thead>\n",
       "  <tbody>\n",
       "    <tr>\n",
       "      <th>0</th>\n",
       "      <td>0</td>\n",
       "      <td>0.455</td>\n",
       "      <td>0.365</td>\n",
       "      <td>0.095</td>\n",
       "      <td>0.5140</td>\n",
       "      <td>0.2245</td>\n",
       "      <td>0.1010</td>\n",
       "      <td>0.1500</td>\n",
       "      <td>15</td>\n",
       "    </tr>\n",
       "    <tr>\n",
       "      <th>1</th>\n",
       "      <td>0</td>\n",
       "      <td>0.350</td>\n",
       "      <td>0.265</td>\n",
       "      <td>0.090</td>\n",
       "      <td>0.2255</td>\n",
       "      <td>0.0995</td>\n",
       "      <td>0.0485</td>\n",
       "      <td>0.0700</td>\n",
       "      <td>7</td>\n",
       "    </tr>\n",
       "    <tr>\n",
       "      <th>2</th>\n",
       "      <td>1</td>\n",
       "      <td>0.530</td>\n",
       "      <td>0.420</td>\n",
       "      <td>0.135</td>\n",
       "      <td>0.6770</td>\n",
       "      <td>0.2565</td>\n",
       "      <td>0.1415</td>\n",
       "      <td>0.2100</td>\n",
       "      <td>9</td>\n",
       "    </tr>\n",
       "    <tr>\n",
       "      <th>3</th>\n",
       "      <td>0</td>\n",
       "      <td>0.440</td>\n",
       "      <td>0.365</td>\n",
       "      <td>0.125</td>\n",
       "      <td>0.5160</td>\n",
       "      <td>0.2155</td>\n",
       "      <td>0.1140</td>\n",
       "      <td>0.1550</td>\n",
       "      <td>10</td>\n",
       "    </tr>\n",
       "    <tr>\n",
       "      <th>4</th>\n",
       "      <td>2</td>\n",
       "      <td>0.330</td>\n",
       "      <td>0.255</td>\n",
       "      <td>0.080</td>\n",
       "      <td>0.2050</td>\n",
       "      <td>0.0895</td>\n",
       "      <td>0.0395</td>\n",
       "      <td>0.0550</td>\n",
       "      <td>7</td>\n",
       "    </tr>\n",
       "    <tr>\n",
       "      <th>...</th>\n",
       "      <td>...</td>\n",
       "      <td>...</td>\n",
       "      <td>...</td>\n",
       "      <td>...</td>\n",
       "      <td>...</td>\n",
       "      <td>...</td>\n",
       "      <td>...</td>\n",
       "      <td>...</td>\n",
       "      <td>...</td>\n",
       "    </tr>\n",
       "    <tr>\n",
       "      <th>4172</th>\n",
       "      <td>1</td>\n",
       "      <td>0.565</td>\n",
       "      <td>0.450</td>\n",
       "      <td>0.165</td>\n",
       "      <td>0.8870</td>\n",
       "      <td>0.3700</td>\n",
       "      <td>0.2390</td>\n",
       "      <td>0.2490</td>\n",
       "      <td>11</td>\n",
       "    </tr>\n",
       "    <tr>\n",
       "      <th>4173</th>\n",
       "      <td>0</td>\n",
       "      <td>0.590</td>\n",
       "      <td>0.440</td>\n",
       "      <td>0.135</td>\n",
       "      <td>0.9660</td>\n",
       "      <td>0.4390</td>\n",
       "      <td>0.2145</td>\n",
       "      <td>0.2605</td>\n",
       "      <td>10</td>\n",
       "    </tr>\n",
       "    <tr>\n",
       "      <th>4174</th>\n",
       "      <td>0</td>\n",
       "      <td>0.600</td>\n",
       "      <td>0.475</td>\n",
       "      <td>0.205</td>\n",
       "      <td>1.1760</td>\n",
       "      <td>0.5255</td>\n",
       "      <td>0.2875</td>\n",
       "      <td>0.3080</td>\n",
       "      <td>9</td>\n",
       "    </tr>\n",
       "    <tr>\n",
       "      <th>4175</th>\n",
       "      <td>1</td>\n",
       "      <td>0.625</td>\n",
       "      <td>0.485</td>\n",
       "      <td>0.150</td>\n",
       "      <td>1.0945</td>\n",
       "      <td>0.5310</td>\n",
       "      <td>0.2610</td>\n",
       "      <td>0.2960</td>\n",
       "      <td>10</td>\n",
       "    </tr>\n",
       "    <tr>\n",
       "      <th>4176</th>\n",
       "      <td>0</td>\n",
       "      <td>0.710</td>\n",
       "      <td>0.555</td>\n",
       "      <td>0.195</td>\n",
       "      <td>1.9485</td>\n",
       "      <td>0.9455</td>\n",
       "      <td>0.3765</td>\n",
       "      <td>0.4950</td>\n",
       "      <td>12</td>\n",
       "    </tr>\n",
       "  </tbody>\n",
       "</table>\n",
       "<p>4177 rows × 9 columns</p>\n",
       "</div>"
      ],
      "text/plain": [
       "      Sex  Length  Diameter  Height  Whole_weight  Shucked_weight  \\\n",
       "0       0   0.455     0.365   0.095        0.5140          0.2245   \n",
       "1       0   0.350     0.265   0.090        0.2255          0.0995   \n",
       "2       1   0.530     0.420   0.135        0.6770          0.2565   \n",
       "3       0   0.440     0.365   0.125        0.5160          0.2155   \n",
       "4       2   0.330     0.255   0.080        0.2050          0.0895   \n",
       "...   ...     ...       ...     ...           ...             ...   \n",
       "4172    1   0.565     0.450   0.165        0.8870          0.3700   \n",
       "4173    0   0.590     0.440   0.135        0.9660          0.4390   \n",
       "4174    0   0.600     0.475   0.205        1.1760          0.5255   \n",
       "4175    1   0.625     0.485   0.150        1.0945          0.5310   \n",
       "4176    0   0.710     0.555   0.195        1.9485          0.9455   \n",
       "\n",
       "      Viscera_weight  Shell_weight  Rings  \n",
       "0             0.1010        0.1500     15  \n",
       "1             0.0485        0.0700      7  \n",
       "2             0.1415        0.2100      9  \n",
       "3             0.1140        0.1550     10  \n",
       "4             0.0395        0.0550      7  \n",
       "...              ...           ...    ...  \n",
       "4172          0.2390        0.2490     11  \n",
       "4173          0.2145        0.2605     10  \n",
       "4174          0.2875        0.3080      9  \n",
       "4175          0.2610        0.2960     10  \n",
       "4176          0.3765        0.4950     12  \n",
       "\n",
       "[4177 rows x 9 columns]"
      ]
     },
     "execution_count": 15,
     "metadata": {},
     "output_type": "execute_result"
    }
   ],
   "source": [
    "# Mengubah data pada column Sex menjadi numerik\n",
    "data['Sex'] = data['Sex'].map({'M': 0, 'F': 1, 'I': 2})\n",
    "data"
   ]
  },
  {
   "cell_type": "code",
   "execution_count": 17,
   "id": "RTEjF0e9zvLM",
   "metadata": {
    "colab": {
     "base_uri": "https://localhost:8080/"
    },
    "id": "RTEjF0e9zvLM",
    "outputId": "c6b987d2-71cd-4589-980a-c9876ad1bf3e"
   },
   "outputs": [
    {
     "name": "stdout",
     "output_type": "stream",
     "text": [
      "<class 'pandas.core.frame.DataFrame'>\n",
      "RangeIndex: 4177 entries, 0 to 4176\n",
      "Data columns (total 9 columns):\n",
      " #   Column          Non-Null Count  Dtype  \n",
      "---  ------          --------------  -----  \n",
      " 0   Sex             4177 non-null   int64  \n",
      " 1   Length          4177 non-null   float64\n",
      " 2   Diameter        4177 non-null   float64\n",
      " 3   Height          4177 non-null   float64\n",
      " 4   Whole_weight    4177 non-null   float64\n",
      " 5   Shucked_weight  4177 non-null   float64\n",
      " 6   Viscera_weight  4177 non-null   float64\n",
      " 7   Shell_weight    4177 non-null   float64\n",
      " 8   Rings           4177 non-null   int64  \n",
      "dtypes: float64(7), int64(2)\n",
      "memory usage: 293.8 KB\n"
     ]
    }
   ],
   "source": [
    "# Menampilkan info data\n",
    "data.info()"
   ]
  },
  {
   "cell_type": "code",
   "execution_count": 19,
   "id": "ERSmbqgHz9QT",
   "metadata": {
    "colab": {
     "base_uri": "https://localhost:8080/",
     "height": 300
    },
    "id": "ERSmbqgHz9QT",
    "outputId": "12d1b65b-61da-48e9-a4e0-d3689bd5b487"
   },
   "outputs": [
    {
     "data": {
      "text/html": [
       "<div>\n",
       "<style scoped>\n",
       "    .dataframe tbody tr th:only-of-type {\n",
       "        vertical-align: middle;\n",
       "    }\n",
       "\n",
       "    .dataframe tbody tr th {\n",
       "        vertical-align: top;\n",
       "    }\n",
       "\n",
       "    .dataframe thead th {\n",
       "        text-align: right;\n",
       "    }\n",
       "</style>\n",
       "<table border=\"1\" class=\"dataframe\">\n",
       "  <thead>\n",
       "    <tr style=\"text-align: right;\">\n",
       "      <th></th>\n",
       "      <th>Sex</th>\n",
       "      <th>Length</th>\n",
       "      <th>Diameter</th>\n",
       "      <th>Height</th>\n",
       "      <th>Whole_weight</th>\n",
       "      <th>Shucked_weight</th>\n",
       "      <th>Viscera_weight</th>\n",
       "      <th>Shell_weight</th>\n",
       "      <th>Rings</th>\n",
       "    </tr>\n",
       "  </thead>\n",
       "  <tbody>\n",
       "    <tr>\n",
       "      <th>count</th>\n",
       "      <td>4177.000000</td>\n",
       "      <td>4177.000000</td>\n",
       "      <td>4177.000000</td>\n",
       "      <td>4177.000000</td>\n",
       "      <td>4177.000000</td>\n",
       "      <td>4177.000000</td>\n",
       "      <td>4177.000000</td>\n",
       "      <td>4177.000000</td>\n",
       "      <td>4177.000000</td>\n",
       "    </tr>\n",
       "    <tr>\n",
       "      <th>mean</th>\n",
       "      <td>0.955470</td>\n",
       "      <td>0.523992</td>\n",
       "      <td>0.407881</td>\n",
       "      <td>0.139516</td>\n",
       "      <td>0.828742</td>\n",
       "      <td>0.359367</td>\n",
       "      <td>0.180594</td>\n",
       "      <td>0.238831</td>\n",
       "      <td>9.933684</td>\n",
       "    </tr>\n",
       "    <tr>\n",
       "      <th>std</th>\n",
       "      <td>0.827815</td>\n",
       "      <td>0.120093</td>\n",
       "      <td>0.099240</td>\n",
       "      <td>0.041827</td>\n",
       "      <td>0.490389</td>\n",
       "      <td>0.221963</td>\n",
       "      <td>0.109614</td>\n",
       "      <td>0.139203</td>\n",
       "      <td>3.224169</td>\n",
       "    </tr>\n",
       "    <tr>\n",
       "      <th>min</th>\n",
       "      <td>0.000000</td>\n",
       "      <td>0.075000</td>\n",
       "      <td>0.055000</td>\n",
       "      <td>0.000000</td>\n",
       "      <td>0.002000</td>\n",
       "      <td>0.001000</td>\n",
       "      <td>0.000500</td>\n",
       "      <td>0.001500</td>\n",
       "      <td>1.000000</td>\n",
       "    </tr>\n",
       "    <tr>\n",
       "      <th>25%</th>\n",
       "      <td>0.000000</td>\n",
       "      <td>0.450000</td>\n",
       "      <td>0.350000</td>\n",
       "      <td>0.115000</td>\n",
       "      <td>0.441500</td>\n",
       "      <td>0.186000</td>\n",
       "      <td>0.093500</td>\n",
       "      <td>0.130000</td>\n",
       "      <td>8.000000</td>\n",
       "    </tr>\n",
       "    <tr>\n",
       "      <th>50%</th>\n",
       "      <td>1.000000</td>\n",
       "      <td>0.545000</td>\n",
       "      <td>0.425000</td>\n",
       "      <td>0.140000</td>\n",
       "      <td>0.799500</td>\n",
       "      <td>0.336000</td>\n",
       "      <td>0.171000</td>\n",
       "      <td>0.234000</td>\n",
       "      <td>9.000000</td>\n",
       "    </tr>\n",
       "    <tr>\n",
       "      <th>75%</th>\n",
       "      <td>2.000000</td>\n",
       "      <td>0.615000</td>\n",
       "      <td>0.480000</td>\n",
       "      <td>0.165000</td>\n",
       "      <td>1.153000</td>\n",
       "      <td>0.502000</td>\n",
       "      <td>0.253000</td>\n",
       "      <td>0.329000</td>\n",
       "      <td>11.000000</td>\n",
       "    </tr>\n",
       "    <tr>\n",
       "      <th>max</th>\n",
       "      <td>2.000000</td>\n",
       "      <td>0.815000</td>\n",
       "      <td>0.650000</td>\n",
       "      <td>1.130000</td>\n",
       "      <td>2.825500</td>\n",
       "      <td>1.488000</td>\n",
       "      <td>0.760000</td>\n",
       "      <td>1.005000</td>\n",
       "      <td>29.000000</td>\n",
       "    </tr>\n",
       "  </tbody>\n",
       "</table>\n",
       "</div>"
      ],
      "text/plain": [
       "               Sex       Length     Diameter       Height  Whole_weight  \\\n",
       "count  4177.000000  4177.000000  4177.000000  4177.000000   4177.000000   \n",
       "mean      0.955470     0.523992     0.407881     0.139516      0.828742   \n",
       "std       0.827815     0.120093     0.099240     0.041827      0.490389   \n",
       "min       0.000000     0.075000     0.055000     0.000000      0.002000   \n",
       "25%       0.000000     0.450000     0.350000     0.115000      0.441500   \n",
       "50%       1.000000     0.545000     0.425000     0.140000      0.799500   \n",
       "75%       2.000000     0.615000     0.480000     0.165000      1.153000   \n",
       "max       2.000000     0.815000     0.650000     1.130000      2.825500   \n",
       "\n",
       "       Shucked_weight  Viscera_weight  Shell_weight        Rings  \n",
       "count     4177.000000     4177.000000   4177.000000  4177.000000  \n",
       "mean         0.359367        0.180594      0.238831     9.933684  \n",
       "std          0.221963        0.109614      0.139203     3.224169  \n",
       "min          0.001000        0.000500      0.001500     1.000000  \n",
       "25%          0.186000        0.093500      0.130000     8.000000  \n",
       "50%          0.336000        0.171000      0.234000     9.000000  \n",
       "75%          0.502000        0.253000      0.329000    11.000000  \n",
       "max          1.488000        0.760000      1.005000    29.000000  "
      ]
     },
     "execution_count": 19,
     "metadata": {},
     "output_type": "execute_result"
    }
   ],
   "source": [
    "# Menampilkan deskripsi data\n",
    "data.describe()"
   ]
  },
  {
   "cell_type": "code",
   "execution_count": 21,
   "id": "g4Uju8qu1JVt",
   "metadata": {
    "colab": {
     "base_uri": "https://localhost:8080/",
     "height": 332
    },
    "id": "g4Uju8qu1JVt",
    "outputId": "8b4dd8ed-2131-493c-f418-ed3bf8b398dc"
   },
   "outputs": [
    {
     "data": {
      "text/html": [
       "<div>\n",
       "<style scoped>\n",
       "    .dataframe tbody tr th:only-of-type {\n",
       "        vertical-align: middle;\n",
       "    }\n",
       "\n",
       "    .dataframe tbody tr th {\n",
       "        vertical-align: top;\n",
       "    }\n",
       "\n",
       "    .dataframe thead th {\n",
       "        text-align: right;\n",
       "    }\n",
       "</style>\n",
       "<table border=\"1\" class=\"dataframe\">\n",
       "  <thead>\n",
       "    <tr style=\"text-align: right;\">\n",
       "      <th></th>\n",
       "      <th>Sex</th>\n",
       "      <th>Length</th>\n",
       "      <th>Diameter</th>\n",
       "      <th>Height</th>\n",
       "      <th>Whole_weight</th>\n",
       "      <th>Shucked_weight</th>\n",
       "      <th>Viscera_weight</th>\n",
       "      <th>Shell_weight</th>\n",
       "      <th>Rings</th>\n",
       "    </tr>\n",
       "  </thead>\n",
       "  <tbody>\n",
       "    <tr>\n",
       "      <th>Sex</th>\n",
       "      <td>1.000000</td>\n",
       "      <td>-0.448765</td>\n",
       "      <td>-0.458245</td>\n",
       "      <td>-0.417928</td>\n",
       "      <td>-0.461238</td>\n",
       "      <td>-0.440927</td>\n",
       "      <td>-0.454658</td>\n",
       "      <td>-0.445549</td>\n",
       "      <td>-0.351822</td>\n",
       "    </tr>\n",
       "    <tr>\n",
       "      <th>Length</th>\n",
       "      <td>-0.448765</td>\n",
       "      <td>1.000000</td>\n",
       "      <td>0.986812</td>\n",
       "      <td>0.827554</td>\n",
       "      <td>0.925261</td>\n",
       "      <td>0.897914</td>\n",
       "      <td>0.903018</td>\n",
       "      <td>0.897706</td>\n",
       "      <td>0.556720</td>\n",
       "    </tr>\n",
       "    <tr>\n",
       "      <th>Diameter</th>\n",
       "      <td>-0.458245</td>\n",
       "      <td>0.986812</td>\n",
       "      <td>1.000000</td>\n",
       "      <td>0.833684</td>\n",
       "      <td>0.925452</td>\n",
       "      <td>0.893162</td>\n",
       "      <td>0.899724</td>\n",
       "      <td>0.905330</td>\n",
       "      <td>0.574660</td>\n",
       "    </tr>\n",
       "    <tr>\n",
       "      <th>Height</th>\n",
       "      <td>-0.417928</td>\n",
       "      <td>0.827554</td>\n",
       "      <td>0.833684</td>\n",
       "      <td>1.000000</td>\n",
       "      <td>0.819221</td>\n",
       "      <td>0.774972</td>\n",
       "      <td>0.798319</td>\n",
       "      <td>0.817338</td>\n",
       "      <td>0.557467</td>\n",
       "    </tr>\n",
       "    <tr>\n",
       "      <th>Whole_weight</th>\n",
       "      <td>-0.461238</td>\n",
       "      <td>0.925261</td>\n",
       "      <td>0.925452</td>\n",
       "      <td>0.819221</td>\n",
       "      <td>1.000000</td>\n",
       "      <td>0.969405</td>\n",
       "      <td>0.966375</td>\n",
       "      <td>0.955355</td>\n",
       "      <td>0.540390</td>\n",
       "    </tr>\n",
       "    <tr>\n",
       "      <th>Shucked_weight</th>\n",
       "      <td>-0.440927</td>\n",
       "      <td>0.897914</td>\n",
       "      <td>0.893162</td>\n",
       "      <td>0.774972</td>\n",
       "      <td>0.969405</td>\n",
       "      <td>1.000000</td>\n",
       "      <td>0.931961</td>\n",
       "      <td>0.882617</td>\n",
       "      <td>0.420884</td>\n",
       "    </tr>\n",
       "    <tr>\n",
       "      <th>Viscera_weight</th>\n",
       "      <td>-0.454658</td>\n",
       "      <td>0.903018</td>\n",
       "      <td>0.899724</td>\n",
       "      <td>0.798319</td>\n",
       "      <td>0.966375</td>\n",
       "      <td>0.931961</td>\n",
       "      <td>1.000000</td>\n",
       "      <td>0.907656</td>\n",
       "      <td>0.503819</td>\n",
       "    </tr>\n",
       "    <tr>\n",
       "      <th>Shell_weight</th>\n",
       "      <td>-0.445549</td>\n",
       "      <td>0.897706</td>\n",
       "      <td>0.905330</td>\n",
       "      <td>0.817338</td>\n",
       "      <td>0.955355</td>\n",
       "      <td>0.882617</td>\n",
       "      <td>0.907656</td>\n",
       "      <td>1.000000</td>\n",
       "      <td>0.627574</td>\n",
       "    </tr>\n",
       "    <tr>\n",
       "      <th>Rings</th>\n",
       "      <td>-0.351822</td>\n",
       "      <td>0.556720</td>\n",
       "      <td>0.574660</td>\n",
       "      <td>0.557467</td>\n",
       "      <td>0.540390</td>\n",
       "      <td>0.420884</td>\n",
       "      <td>0.503819</td>\n",
       "      <td>0.627574</td>\n",
       "      <td>1.000000</td>\n",
       "    </tr>\n",
       "  </tbody>\n",
       "</table>\n",
       "</div>"
      ],
      "text/plain": [
       "                     Sex    Length  Diameter    Height  Whole_weight  \\\n",
       "Sex             1.000000 -0.448765 -0.458245 -0.417928     -0.461238   \n",
       "Length         -0.448765  1.000000  0.986812  0.827554      0.925261   \n",
       "Diameter       -0.458245  0.986812  1.000000  0.833684      0.925452   \n",
       "Height         -0.417928  0.827554  0.833684  1.000000      0.819221   \n",
       "Whole_weight   -0.461238  0.925261  0.925452  0.819221      1.000000   \n",
       "Shucked_weight -0.440927  0.897914  0.893162  0.774972      0.969405   \n",
       "Viscera_weight -0.454658  0.903018  0.899724  0.798319      0.966375   \n",
       "Shell_weight   -0.445549  0.897706  0.905330  0.817338      0.955355   \n",
       "Rings          -0.351822  0.556720  0.574660  0.557467      0.540390   \n",
       "\n",
       "                Shucked_weight  Viscera_weight  Shell_weight     Rings  \n",
       "Sex                  -0.440927       -0.454658     -0.445549 -0.351822  \n",
       "Length                0.897914        0.903018      0.897706  0.556720  \n",
       "Diameter              0.893162        0.899724      0.905330  0.574660  \n",
       "Height                0.774972        0.798319      0.817338  0.557467  \n",
       "Whole_weight          0.969405        0.966375      0.955355  0.540390  \n",
       "Shucked_weight        1.000000        0.931961      0.882617  0.420884  \n",
       "Viscera_weight        0.931961        1.000000      0.907656  0.503819  \n",
       "Shell_weight          0.882617        0.907656      1.000000  0.627574  \n",
       "Rings                 0.420884        0.503819      0.627574  1.000000  "
      ]
     },
     "execution_count": 21,
     "metadata": {},
     "output_type": "execute_result"
    }
   ],
   "source": [
    "# Menampilkan korelasi antar data\n",
    "data.corr()"
   ]
  },
  {
   "cell_type": "code",
   "execution_count": 23,
   "id": "bd1c9727",
   "metadata": {
    "colab": {
     "base_uri": "https://localhost:8080/"
    },
    "id": "bd1c9727",
    "outputId": "57103b60-2724-4c80-d2b4-5a46b3ef7d73"
   },
   "outputs": [
    {
     "data": {
      "text/plain": [
       "Sex              -0.351822\n",
       "Shucked_weight    0.420884\n",
       "Viscera_weight    0.503819\n",
       "Whole_weight      0.540390\n",
       "Length            0.556720\n",
       "Height            0.557467\n",
       "Diameter          0.574660\n",
       "Shell_weight      0.627574\n",
       "Rings             1.000000\n",
       "Name: Rings, dtype: float64"
      ]
     },
     "execution_count": 23,
     "metadata": {},
     "output_type": "execute_result"
    }
   ],
   "source": [
    "# Melihat korelasi data feature dengan data target dan disorting menaik\n",
    "data.corr()['Rings'].sort_values()"
   ]
  },
  {
   "cell_type": "code",
   "execution_count": 25,
   "id": "7w5fpcML2VUA",
   "metadata": {
    "id": "7w5fpcML2VUA"
   },
   "outputs": [],
   "source": [
    "# Menghapus data dengan korelasi dibawah 0.5\n",
    "data = data.drop(['Sex', 'Shucked_weight'], axis=1)"
   ]
  },
  {
   "cell_type": "code",
   "execution_count": 27,
   "id": "b3WlHKjO2bCR",
   "metadata": {
    "colab": {
     "base_uri": "https://localhost:8080/",
     "height": 819
    },
    "id": "b3WlHKjO2bCR",
    "outputId": "9bd8bed4-36bf-4f5c-85b2-b0c24415cc03"
   },
   "outputs": [
    {
     "data": {
      "image/png": "[encoded data removed]",
      "text/plain": [
       "<Figure size 2000x1000 with 1 Axes>"
      ]
     },
     "metadata": {},
     "output_type": "display_data"
    }
   ],
   "source": [
    "# Menampilkan boxplot untuk setiap kolom\n",
    "plt.figure(figsize=(20, 10))\n",
    "data.boxplot()\n",
    "plt.title('Box Plot of Categories')\n",
    "plt.ylabel('Values')\n",
    "plt.xlabel('Categories')\n",
    "plt.show()"
   ]
  },
  {
   "cell_type": "code",
   "execution_count": 29,
   "id": "U2lDvMX52kT2",
   "metadata": {
    "id": "U2lDvMX52kT2"
   },
   "outputs": [
    {
     "name": "stderr",
     "output_type": "stream",
     "text": [
      "/var/folders/7f/m1lv8sdx141fznccvwmrsv3w0000gn/T/ipykernel_1964/578394311.py:12: FutureWarning: Setting an item of incompatible dtype is deprecated and will raise in a future error of pandas. Value '3.5' has dtype incompatible with int64, please explicitly cast to a compatible dtype first.\n",
      "  column[column < lower_bound[col_name]] = lower_bound[col_name]\n"
     ]
    }
   ],
   "source": [
    "# Mendeteksi outlier pada setiap kolom dan mengganti nilai tersebut\n",
    "# menjadi Q1 atau Q3 untuk setiap kolom\n",
    "df_numeric = data.select_dtypes(include=[float, int])\n",
    "Q1 = df_numeric.quantile(0.25)\n",
    "Q3 = df_numeric.quantile(0.75)\n",
    "IQR = Q3 - Q1\n",
    "lower_bound = Q1 - 1.5 * IQR\n",
    "upper_bound = Q3 + 1.5 * IQR\n",
    "def replace_outliers(column):\n",
    "    col_name = column.name\n",
    "    column = column.copy()\n",
    "    column[column < lower_bound[col_name]] = lower_bound[col_name]\n",
    "    column[column > upper_bound[col_name]] = upper_bound[col_name]\n",
    "    return column\n",
    "df_no_outliers = df_numeric.apply(replace_outliers)"
   ]
  },
  {
   "cell_type": "code",
   "execution_count": 31,
   "id": "Mr6ZIdAa29uo",
   "metadata": {
    "colab": {
     "base_uri": "https://localhost:8080/",
     "height": 424
    },
    "id": "Mr6ZIdAa29uo",
    "outputId": "911ce350-fddc-4296-9577-18c30ad1588b"
   },
   "outputs": [
    {
     "data": {
      "text/html": [
       "<div>\n",
       "<style scoped>\n",
       "    .dataframe tbody tr th:only-of-type {\n",
       "        vertical-align: middle;\n",
       "    }\n",
       "\n",
       "    .dataframe tbody tr th {\n",
       "        vertical-align: top;\n",
       "    }\n",
       "\n",
       "    .dataframe thead th {\n",
       "        text-align: right;\n",
       "    }\n",
       "</style>\n",
       "<table border=\"1\" class=\"dataframe\">\n",
       "  <thead>\n",
       "    <tr style=\"text-align: right;\">\n",
       "      <th></th>\n",
       "      <th>Length</th>\n",
       "      <th>Diameter</th>\n",
       "      <th>Height</th>\n",
       "      <th>Whole_weight</th>\n",
       "      <th>Viscera_weight</th>\n",
       "      <th>Shell_weight</th>\n",
       "      <th>Rings</th>\n",
       "    </tr>\n",
       "  </thead>\n",
       "  <tbody>\n",
       "    <tr>\n",
       "      <th>0</th>\n",
       "      <td>0.455</td>\n",
       "      <td>0.365</td>\n",
       "      <td>0.095</td>\n",
       "      <td>0.5140</td>\n",
       "      <td>0.1010</td>\n",
       "      <td>0.1500</td>\n",
       "      <td>15.0</td>\n",
       "    </tr>\n",
       "    <tr>\n",
       "      <th>1</th>\n",
       "      <td>0.350</td>\n",
       "      <td>0.265</td>\n",
       "      <td>0.090</td>\n",
       "      <td>0.2255</td>\n",
       "      <td>0.0485</td>\n",
       "      <td>0.0700</td>\n",
       "      <td>7.0</td>\n",
       "    </tr>\n",
       "    <tr>\n",
       "      <th>2</th>\n",
       "      <td>0.530</td>\n",
       "      <td>0.420</td>\n",
       "      <td>0.135</td>\n",
       "      <td>0.6770</td>\n",
       "      <td>0.1415</td>\n",
       "      <td>0.2100</td>\n",
       "      <td>9.0</td>\n",
       "    </tr>\n",
       "    <tr>\n",
       "      <th>3</th>\n",
       "      <td>0.440</td>\n",
       "      <td>0.365</td>\n",
       "      <td>0.125</td>\n",
       "      <td>0.5160</td>\n",
       "      <td>0.1140</td>\n",
       "      <td>0.1550</td>\n",
       "      <td>10.0</td>\n",
       "    </tr>\n",
       "    <tr>\n",
       "      <th>4</th>\n",
       "      <td>0.330</td>\n",
       "      <td>0.255</td>\n",
       "      <td>0.080</td>\n",
       "      <td>0.2050</td>\n",
       "      <td>0.0395</td>\n",
       "      <td>0.0550</td>\n",
       "      <td>7.0</td>\n",
       "    </tr>\n",
       "    <tr>\n",
       "      <th>...</th>\n",
       "      <td>...</td>\n",
       "      <td>...</td>\n",
       "      <td>...</td>\n",
       "      <td>...</td>\n",
       "      <td>...</td>\n",
       "      <td>...</td>\n",
       "      <td>...</td>\n",
       "    </tr>\n",
       "    <tr>\n",
       "      <th>4172</th>\n",
       "      <td>0.565</td>\n",
       "      <td>0.450</td>\n",
       "      <td>0.165</td>\n",
       "      <td>0.8870</td>\n",
       "      <td>0.2390</td>\n",
       "      <td>0.2490</td>\n",
       "      <td>11.0</td>\n",
       "    </tr>\n",
       "    <tr>\n",
       "      <th>4173</th>\n",
       "      <td>0.590</td>\n",
       "      <td>0.440</td>\n",
       "      <td>0.135</td>\n",
       "      <td>0.9660</td>\n",
       "      <td>0.2145</td>\n",
       "      <td>0.2605</td>\n",
       "      <td>10.0</td>\n",
       "    </tr>\n",
       "    <tr>\n",
       "      <th>4174</th>\n",
       "      <td>0.600</td>\n",
       "      <td>0.475</td>\n",
       "      <td>0.205</td>\n",
       "      <td>1.1760</td>\n",
       "      <td>0.2875</td>\n",
       "      <td>0.3080</td>\n",
       "      <td>9.0</td>\n",
       "    </tr>\n",
       "    <tr>\n",
       "      <th>4175</th>\n",
       "      <td>0.625</td>\n",
       "      <td>0.485</td>\n",
       "      <td>0.150</td>\n",
       "      <td>1.0945</td>\n",
       "      <td>0.2610</td>\n",
       "      <td>0.2960</td>\n",
       "      <td>10.0</td>\n",
       "    </tr>\n",
       "    <tr>\n",
       "      <th>4176</th>\n",
       "      <td>0.710</td>\n",
       "      <td>0.555</td>\n",
       "      <td>0.195</td>\n",
       "      <td>1.9485</td>\n",
       "      <td>0.3765</td>\n",
       "      <td>0.4950</td>\n",
       "      <td>12.0</td>\n",
       "    </tr>\n",
       "  </tbody>\n",
       "</table>\n",
       "<p>4177 rows × 7 columns</p>\n",
       "</div>"
      ],
      "text/plain": [
       "      Length  Diameter  Height  Whole_weight  Viscera_weight  Shell_weight  \\\n",
       "0      0.455     0.365   0.095        0.5140          0.1010        0.1500   \n",
       "1      0.350     0.265   0.090        0.2255          0.0485        0.0700   \n",
       "2      0.530     0.420   0.135        0.6770          0.1415        0.2100   \n",
       "3      0.440     0.365   0.125        0.5160          0.1140        0.1550   \n",
       "4      0.330     0.255   0.080        0.2050          0.0395        0.0550   \n",
       "...      ...       ...     ...           ...             ...           ...   \n",
       "4172   0.565     0.450   0.165        0.8870          0.2390        0.2490   \n",
       "4173   0.590     0.440   0.135        0.9660          0.2145        0.2605   \n",
       "4174   0.600     0.475   0.205        1.1760          0.2875        0.3080   \n",
       "4175   0.625     0.485   0.150        1.0945          0.2610        0.2960   \n",
       "4176   0.710     0.555   0.195        1.9485          0.3765        0.4950   \n",
       "\n",
       "      Rings  \n",
       "0      15.0  \n",
       "1       7.0  \n",
       "2       9.0  \n",
       "3      10.0  \n",
       "4       7.0  \n",
       "...     ...  \n",
       "4172   11.0  \n",
       "4173   10.0  \n",
       "4174    9.0  \n",
       "4175   10.0  \n",
       "4176   12.0  \n",
       "\n",
       "[4177 rows x 7 columns]"
      ]
     },
     "execution_count": 31,
     "metadata": {},
     "output_type": "execute_result"
    }
   ],
   "source": [
    "# Menyalin nilai dataframe tanpa outlier ke variabel data\n",
    "data = df_no_outliers.copy()\n",
    "data"
   ]
  },
  {
   "cell_type": "code",
   "execution_count": 33,
   "id": "g8wUkvxa3HFj",
   "metadata": {
    "colab": {
     "base_uri": "https://localhost:8080/",
     "height": 819
    },
    "id": "g8wUkvxa3HFj",
    "outputId": "272876c8-e913-4da0-d16d-6618e306784a"
   },
   "outputs": [
    {
     "data": {
      "image/png": "[encoded data removed]",
      "text/plain": [
       "<Figure size 2000x1000 with 1 Axes>"
      ]
     },
     "metadata": {},
     "output_type": "display_data"
    }
   ],
   "source": [
    "# Menampilkan boxplot setelah penggantian nilai outlier\n",
    "plt.figure(figsize=(20, 10))\n",
    "data.boxplot()\n",
    "plt.title('Box Plot of Categories')\n",
    "plt.ylabel('Values')\n",
    "plt.xlabel('Categories')\n",
    "plt.show()\n"
   ]
  },
  {
   "cell_type": "code",
   "execution_count": 35,
   "id": "TAjSFPO_3Rf9",
   "metadata": {
    "colab": {
     "base_uri": "https://localhost:8080/",
     "height": 424
    },
    "id": "TAjSFPO_3Rf9",
    "outputId": "2514db67-f0f0-49d0-bd2b-fee20276d700"
   },
   "outputs": [
    {
     "data": {
      "text/html": [
       "<div>\n",
       "<style scoped>\n",
       "    .dataframe tbody tr th:only-of-type {\n",
       "        vertical-align: middle;\n",
       "    }\n",
       "\n",
       "    .dataframe tbody tr th {\n",
       "        vertical-align: top;\n",
       "    }\n",
       "\n",
       "    .dataframe thead th {\n",
       "        text-align: right;\n",
       "    }\n",
       "</style>\n",
       "<table border=\"1\" class=\"dataframe\">\n",
       "  <thead>\n",
       "    <tr style=\"text-align: right;\">\n",
       "      <th></th>\n",
       "      <th>Length</th>\n",
       "      <th>Diameter</th>\n",
       "      <th>Height</th>\n",
       "      <th>Whole_weight</th>\n",
       "      <th>Viscera_weight</th>\n",
       "      <th>Shell_weight</th>\n",
       "    </tr>\n",
       "  </thead>\n",
       "  <tbody>\n",
       "    <tr>\n",
       "      <th>0</th>\n",
       "      <td>0.455</td>\n",
       "      <td>0.365</td>\n",
       "      <td>0.095</td>\n",
       "      <td>0.5140</td>\n",
       "      <td>0.1010</td>\n",
       "      <td>0.1500</td>\n",
       "    </tr>\n",
       "    <tr>\n",
       "      <th>1</th>\n",
       "      <td>0.350</td>\n",
       "      <td>0.265</td>\n",
       "      <td>0.090</td>\n",
       "      <td>0.2255</td>\n",
       "      <td>0.0485</td>\n",
       "      <td>0.0700</td>\n",
       "    </tr>\n",
       "    <tr>\n",
       "      <th>2</th>\n",
       "      <td>0.530</td>\n",
       "      <td>0.420</td>\n",
       "      <td>0.135</td>\n",
       "      <td>0.6770</td>\n",
       "      <td>0.1415</td>\n",
       "      <td>0.2100</td>\n",
       "    </tr>\n",
       "    <tr>\n",
       "      <th>3</th>\n",
       "      <td>0.440</td>\n",
       "      <td>0.365</td>\n",
       "      <td>0.125</td>\n",
       "      <td>0.5160</td>\n",
       "      <td>0.1140</td>\n",
       "      <td>0.1550</td>\n",
       "    </tr>\n",
       "    <tr>\n",
       "      <th>4</th>\n",
       "      <td>0.330</td>\n",
       "      <td>0.255</td>\n",
       "      <td>0.080</td>\n",
       "      <td>0.2050</td>\n",
       "      <td>0.0395</td>\n",
       "      <td>0.0550</td>\n",
       "    </tr>\n",
       "    <tr>\n",
       "      <th>...</th>\n",
       "      <td>...</td>\n",
       "      <td>...</td>\n",
       "      <td>...</td>\n",
       "      <td>...</td>\n",
       "      <td>...</td>\n",
       "      <td>...</td>\n",
       "    </tr>\n",
       "    <tr>\n",
       "      <th>4172</th>\n",
       "      <td>0.565</td>\n",
       "      <td>0.450</td>\n",
       "      <td>0.165</td>\n",
       "      <td>0.8870</td>\n",
       "      <td>0.2390</td>\n",
       "      <td>0.2490</td>\n",
       "    </tr>\n",
       "    <tr>\n",
       "      <th>4173</th>\n",
       "      <td>0.590</td>\n",
       "      <td>0.440</td>\n",
       "      <td>0.135</td>\n",
       "      <td>0.9660</td>\n",
       "      <td>0.2145</td>\n",
       "      <td>0.2605</td>\n",
       "    </tr>\n",
       "    <tr>\n",
       "      <th>4174</th>\n",
       "      <td>0.600</td>\n",
       "      <td>0.475</td>\n",
       "      <td>0.205</td>\n",
       "      <td>1.1760</td>\n",
       "      <td>0.2875</td>\n",
       "      <td>0.3080</td>\n",
       "    </tr>\n",
       "    <tr>\n",
       "      <th>4175</th>\n",
       "      <td>0.625</td>\n",
       "      <td>0.485</td>\n",
       "      <td>0.150</td>\n",
       "      <td>1.0945</td>\n",
       "      <td>0.2610</td>\n",
       "      <td>0.2960</td>\n",
       "    </tr>\n",
       "    <tr>\n",
       "      <th>4176</th>\n",
       "      <td>0.710</td>\n",
       "      <td>0.555</td>\n",
       "      <td>0.195</td>\n",
       "      <td>1.9485</td>\n",
       "      <td>0.3765</td>\n",
       "      <td>0.4950</td>\n",
       "    </tr>\n",
       "  </tbody>\n",
       "</table>\n",
       "<p>4177 rows × 6 columns</p>\n",
       "</div>"
      ],
      "text/plain": [
       "      Length  Diameter  Height  Whole_weight  Viscera_weight  Shell_weight\n",
       "0      0.455     0.365   0.095        0.5140          0.1010        0.1500\n",
       "1      0.350     0.265   0.090        0.2255          0.0485        0.0700\n",
       "2      0.530     0.420   0.135        0.6770          0.1415        0.2100\n",
       "3      0.440     0.365   0.125        0.5160          0.1140        0.1550\n",
       "4      0.330     0.255   0.080        0.2050          0.0395        0.0550\n",
       "...      ...       ...     ...           ...             ...           ...\n",
       "4172   0.565     0.450   0.165        0.8870          0.2390        0.2490\n",
       "4173   0.590     0.440   0.135        0.9660          0.2145        0.2605\n",
       "4174   0.600     0.475   0.205        1.1760          0.2875        0.3080\n",
       "4175   0.625     0.485   0.150        1.0945          0.2610        0.2960\n",
       "4176   0.710     0.555   0.195        1.9485          0.3765        0.4950\n",
       "\n",
       "[4177 rows x 6 columns]"
      ]
     },
     "execution_count": 35,
     "metadata": {},
     "output_type": "execute_result"
    }
   ],
   "source": [
    "# Memisahkan nilai target\n",
    "data_copy = data.copy()\n",
    "data.drop(columns='Rings')"
   ]
  },
  {
   "cell_type": "code",
   "execution_count": 37,
   "id": "GIYPWY413dyL",
   "metadata": {
    "colab": {
     "base_uri": "https://localhost:8080/"
    },
    "id": "GIYPWY413dyL",
    "outputId": "286a083d-ea7a-4866-ef8c-a3d9882b3573"
   },
   "outputs": [
    {
     "data": {
      "text/plain": [
       "array([[0.03028987, 0.02429847, 0.00632426, ..., 0.00672369, 0.00998567,\n",
       "        0.99856715],\n",
       "       [0.04986842, 0.03775751, 0.01282331, ..., 0.00691034, 0.00997368,\n",
       "        0.99736831],\n",
       "       [0.05852943, 0.04638181, 0.01490844, ..., 0.01562625, 0.02319091,\n",
       "        0.993896  ],\n",
       "       ...,\n",
       "       [0.06578404, 0.05207903, 0.02247621, ..., 0.03152152, 0.03376914,\n",
       "        0.98676057],\n",
       "       [0.06188361, 0.04802168, 0.01485207, ..., 0.0258426 , 0.02930808,\n",
       "        0.99013775],\n",
       "       [0.05815891, 0.04546225, 0.01597322, ..., 0.03084061, 0.04054741,\n",
       "        0.98296755]])"
      ]
     },
     "execution_count": 37,
     "metadata": {},
     "output_type": "execute_result"
    }
   ],
   "source": [
    "# Melakukan normalisasi data feature menggunakan normalisasi l2\n",
    "normalizer = Normalizer()\n",
    "data = normalizer.fit_transform(data)\n",
    "data"
   ]
  },
  {
   "cell_type": "code",
   "execution_count": 39,
   "id": "Qfsxy7TS3maf",
   "metadata": {
    "id": "Qfsxy7TS3maf"
   },
   "outputs": [],
   "source": [
    "# Mengembalikan nilai target ke data\n",
    "# Mengembalikan format data menjadi data frame\n",
    "column_names = [\"Length\", \"Diameter\", \"Height\", \"Whole_weight\", \"Viscera_weight\", \"Shell_weight\", \"Rings\"]\n",
    "data = pd.DataFrame(data, columns=column_names)\n",
    "data['Rings'] = data_copy['Rings']"
   ]
  },
  {
   "cell_type": "code",
   "execution_count": 41,
   "id": "-7i3okKs34ge",
   "metadata": {
    "colab": {
     "base_uri": "https://localhost:8080/",
     "height": 819
    },
    "id": "-7i3okKs34ge",
    "outputId": "0308e919-e12c-4f76-8488-dd981a7d575b"
   },
   "outputs": [
    {
     "data": {
      "image/png": "[encoded data removed]",
      "text/plain": [
       "<Figure size 2000x1000 with 1 Axes>"
      ]
     },
     "metadata": {},
     "output_type": "display_data"
    }
   ],
   "source": [
    "# Menampilkan boxplot setalah dilakukan normalisasi data\n",
    "plt.figure(figsize=(20, 10))\n",
    "data.boxplot()\n",
    "plt.title('Box Plot of Categories')\n",
    "plt.ylabel('Values')\n",
    "plt.xlabel('Categories')\n",
    "plt.show()"
   ]
  },
  {
   "cell_type": "code",
   "execution_count": 43,
   "id": "cTFS49r33vdV",
   "metadata": {
    "colab": {
     "base_uri": "https://localhost:8080/"
    },
    "id": "cTFS49r33vdV",
    "outputId": "28f3700f-6803-464f-9f71-110dc2849e8d"
   },
   "outputs": [
    {
     "data": {
      "text/plain": [
       "Length            0\n",
       "Diameter          0\n",
       "Height            0\n",
       "Whole_weight      0\n",
       "Viscera_weight    0\n",
       "Shell_weight      0\n",
       "Rings             0\n",
       "dtype: int64"
      ]
     },
     "execution_count": 43,
     "metadata": {},
     "output_type": "execute_result"
    }
   ],
   "source": [
    "# Memastikan tidak ada missing value pada data sebelum masuk ke model\n",
    "data.isnull().sum()"
   ]
  },
  {
   "cell_type": "markdown",
   "id": "fPOiAa-74GR7",
   "metadata": {
    "id": "fPOiAa-74GR7"
   },
   "source": [
    "**Data Splitting**"
   ]
  },
  {
   "cell_type": "code",
   "execution_count": 46,
   "id": "citJ77Cr3-TX",
   "metadata": {
    "id": "citJ77Cr3-TX"
   },
   "outputs": [],
   "source": [
    "# Fungsi untuk membagi data menjadi data train dan data test\n",
    "def split_dataset(data, train_size):\n",
    "    split_index = int(len(data)*train_size)\n",
    "    data_train = data.iloc[:split_index]\n",
    "    data_test = data.iloc[split_index:]\n",
    "\n",
    "    return data_train, data_test"
   ]
  },
  {
   "cell_type": "code",
   "execution_count": 48,
   "id": "sO2v57h34QC_",
   "metadata": {
    "id": "sO2v57h34QC_"
   },
   "outputs": [],
   "source": [
    "# Melakukan split data dengan data train size 80%\n",
    "data_train, data_test = split_dataset(data, .8)"
   ]
  },
  {
   "cell_type": "markdown",
   "id": "bsO2vUnCrnEz",
   "metadata": {
    "id": "bsO2vUnCrnEz"
   },
   "source": [
    "***Data tidak diacak karena data sudah bertipe numerik dan sudah terdistribusi dengan baik**"
   ]
  },
  {
   "cell_type": "code",
   "execution_count": 51,
   "id": "z-T5qC4QprFR",
   "metadata": {
    "colab": {
     "base_uri": "https://localhost:8080/",
     "height": 607
    },
    "id": "z-T5qC4QprFR",
    "outputId": "a227d98e-c1b3-488a-dba7-afbe7d849c81"
   },
   "outputs": [
    {
     "name": "stderr",
     "output_type": "stream",
     "text": [
      "/opt/anaconda3/lib/python3.11/site-packages/seaborn/_oldcore.py:1119: FutureWarning: use_inf_as_na option is deprecated and will be removed in a future version. Convert inf values to NaN before operating instead.\n",
      "  with pd.option_context('mode.use_inf_as_na', True):\n",
      "/opt/anaconda3/lib/python3.11/site-packages/seaborn/_oldcore.py:1119: FutureWarning: use_inf_as_na option is deprecated and will be removed in a future version. Convert inf values to NaN before operating instead.\n",
      "  with pd.option_context('mode.use_inf_as_na', True):\n"
     ]
    },
    {
     "data": {
      "image/png": "[encoded data removed]",
      "text/plain": [
       "<Figure size 1200x600 with 2 Axes>"
      ]
     },
     "metadata": {},
     "output_type": "display_data"
    }
   ],
   "source": [
    "plt.figure(figsize=(12, 6))\n",
    "plt.subplot(1, 2, 1)\n",
    "sns.histplot(data_train['Rings'], kde=True, color='blue', bins=20)\n",
    "plt.title('Distribution of Rings in Train Data')\n",
    "plt.xlabel('Rings')\n",
    "plt.ylabel('Frequency')\n",
    "\n",
    "plt.subplot(1, 2, 2)\n",
    "sns.histplot(data_test['Rings'], kde=True, color='green', bins=20)\n",
    "plt.title('Distribution of Rings in Test Data')\n",
    "plt.xlabel('Rings')\n",
    "plt.ylabel('Frequency')\n",
    "\n",
    "plt.tight_layout()\n",
    "plt.show()"
   ]
  },
  {
   "cell_type": "code",
   "execution_count": 53,
   "id": "dQp8nk2B4aTL",
   "metadata": {
    "colab": {
     "base_uri": "https://localhost:8080/",
     "height": 424
    },
    "id": "dQp8nk2B4aTL",
    "outputId": "026443a2-c31a-4394-8c2e-d3440c2c66da"
   },
   "outputs": [
    {
     "data": {
      "text/html": [
       "<div>\n",
       "<style scoped>\n",
       "    .dataframe tbody tr th:only-of-type {\n",
       "        vertical-align: middle;\n",
       "    }\n",
       "\n",
       "    .dataframe tbody tr th {\n",
       "        vertical-align: top;\n",
       "    }\n",
       "\n",
       "    .dataframe thead th {\n",
       "        text-align: right;\n",
       "    }\n",
       "</style>\n",
       "<table border=\"1\" class=\"dataframe\">\n",
       "  <thead>\n",
       "    <tr style=\"text-align: right;\">\n",
       "      <th></th>\n",
       "      <th>Length</th>\n",
       "      <th>Diameter</th>\n",
       "      <th>Height</th>\n",
       "      <th>Whole_weight</th>\n",
       "      <th>Viscera_weight</th>\n",
       "      <th>Shell_weight</th>\n",
       "      <th>Rings</th>\n",
       "    </tr>\n",
       "  </thead>\n",
       "  <tbody>\n",
       "    <tr>\n",
       "      <th>0</th>\n",
       "      <td>0.030290</td>\n",
       "      <td>0.024298</td>\n",
       "      <td>0.006324</td>\n",
       "      <td>0.034218</td>\n",
       "      <td>0.006724</td>\n",
       "      <td>0.009986</td>\n",
       "      <td>15.0</td>\n",
       "    </tr>\n",
       "    <tr>\n",
       "      <th>1</th>\n",
       "      <td>0.049868</td>\n",
       "      <td>0.037758</td>\n",
       "      <td>0.012823</td>\n",
       "      <td>0.032130</td>\n",
       "      <td>0.006910</td>\n",
       "      <td>0.009974</td>\n",
       "      <td>7.0</td>\n",
       "    </tr>\n",
       "    <tr>\n",
       "      <th>2</th>\n",
       "      <td>0.058529</td>\n",
       "      <td>0.046382</td>\n",
       "      <td>0.014908</td>\n",
       "      <td>0.074763</td>\n",
       "      <td>0.015626</td>\n",
       "      <td>0.023191</td>\n",
       "      <td>9.0</td>\n",
       "    </tr>\n",
       "    <tr>\n",
       "      <th>3</th>\n",
       "      <td>0.043859</td>\n",
       "      <td>0.036383</td>\n",
       "      <td>0.012460</td>\n",
       "      <td>0.051434</td>\n",
       "      <td>0.011363</td>\n",
       "      <td>0.015450</td>\n",
       "      <td>10.0</td>\n",
       "    </tr>\n",
       "    <tr>\n",
       "      <th>4</th>\n",
       "      <td>0.047034</td>\n",
       "      <td>0.036345</td>\n",
       "      <td>0.011402</td>\n",
       "      <td>0.029218</td>\n",
       "      <td>0.005630</td>\n",
       "      <td>0.007839</td>\n",
       "      <td>7.0</td>\n",
       "    </tr>\n",
       "    <tr>\n",
       "      <th>...</th>\n",
       "      <td>...</td>\n",
       "      <td>...</td>\n",
       "      <td>...</td>\n",
       "      <td>...</td>\n",
       "      <td>...</td>\n",
       "      <td>...</td>\n",
       "      <td>...</td>\n",
       "    </tr>\n",
       "    <tr>\n",
       "      <th>3336</th>\n",
       "      <td>0.040814</td>\n",
       "      <td>0.031744</td>\n",
       "      <td>0.011337</td>\n",
       "      <td>0.040224</td>\n",
       "      <td>0.008163</td>\n",
       "      <td>0.013151</td>\n",
       "      <td>11.0</td>\n",
       "    </tr>\n",
       "    <tr>\n",
       "      <th>3337</th>\n",
       "      <td>0.043619</td>\n",
       "      <td>0.034697</td>\n",
       "      <td>0.011896</td>\n",
       "      <td>0.111922</td>\n",
       "      <td>0.026469</td>\n",
       "      <td>0.027758</td>\n",
       "      <td>15.0</td>\n",
       "    </tr>\n",
       "    <tr>\n",
       "      <th>3338</th>\n",
       "      <td>0.043818</td>\n",
       "      <td>0.033583</td>\n",
       "      <td>0.011194</td>\n",
       "      <td>0.109386</td>\n",
       "      <td>0.019766</td>\n",
       "      <td>0.037102</td>\n",
       "      <td>15.5</td>\n",
       "    </tr>\n",
       "    <tr>\n",
       "      <th>3339</th>\n",
       "      <td>0.048507</td>\n",
       "      <td>0.039386</td>\n",
       "      <td>0.015340</td>\n",
       "      <td>0.071103</td>\n",
       "      <td>0.014801</td>\n",
       "      <td>0.022803</td>\n",
       "      <td>12.0</td>\n",
       "    </tr>\n",
       "    <tr>\n",
       "      <th>3340</th>\n",
       "      <td>0.034726</td>\n",
       "      <td>0.027974</td>\n",
       "      <td>0.009325</td>\n",
       "      <td>0.062378</td>\n",
       "      <td>0.014148</td>\n",
       "      <td>0.016977</td>\n",
       "      <td>15.5</td>\n",
       "    </tr>\n",
       "  </tbody>\n",
       "</table>\n",
       "<p>3341 rows × 7 columns</p>\n",
       "</div>"
      ],
      "text/plain": [
       "        Length  Diameter    Height  Whole_weight  Viscera_weight  \\\n",
       "0     0.030290  0.024298  0.006324      0.034218        0.006724   \n",
       "1     0.049868  0.037758  0.012823      0.032130        0.006910   \n",
       "2     0.058529  0.046382  0.014908      0.074763        0.015626   \n",
       "3     0.043859  0.036383  0.012460      0.051434        0.011363   \n",
       "4     0.047034  0.036345  0.011402      0.029218        0.005630   \n",
       "...        ...       ...       ...           ...             ...   \n",
       "3336  0.040814  0.031744  0.011337      0.040224        0.008163   \n",
       "3337  0.043619  0.034697  0.011896      0.111922        0.026469   \n",
       "3338  0.043818  0.033583  0.011194      0.109386        0.019766   \n",
       "3339  0.048507  0.039386  0.015340      0.071103        0.014801   \n",
       "3340  0.034726  0.027974  0.009325      0.062378        0.014148   \n",
       "\n",
       "      Shell_weight  Rings  \n",
       "0         0.009986   15.0  \n",
       "1         0.009974    7.0  \n",
       "2         0.023191    9.0  \n",
       "3         0.015450   10.0  \n",
       "4         0.007839    7.0  \n",
       "...            ...    ...  \n",
       "3336      0.013151   11.0  \n",
       "3337      0.027758   15.0  \n",
       "3338      0.037102   15.5  \n",
       "3339      0.022803   12.0  \n",
       "3340      0.016977   15.5  \n",
       "\n",
       "[3341 rows x 7 columns]"
      ]
     },
     "execution_count": 53,
     "metadata": {},
     "output_type": "execute_result"
    }
   ],
   "source": [
    "# Menampilkan data train yang dibagi\n",
    "data_train"
   ]
  },
  {
   "cell_type": "code",
   "execution_count": 55,
   "id": "NEyZ_j-r4iPS",
   "metadata": {
    "colab": {
     "base_uri": "https://localhost:8080/",
     "height": 424
    },
    "id": "NEyZ_j-r4iPS",
    "outputId": "df70dfef-7f0e-49d8-e53f-3f366a9f576b"
   },
   "outputs": [
    {
     "data": {
      "text/html": [
       "<div>\n",
       "<style scoped>\n",
       "    .dataframe tbody tr th:only-of-type {\n",
       "        vertical-align: middle;\n",
       "    }\n",
       "\n",
       "    .dataframe tbody tr th {\n",
       "        vertical-align: top;\n",
       "    }\n",
       "\n",
       "    .dataframe thead th {\n",
       "        text-align: right;\n",
       "    }\n",
       "</style>\n",
       "<table border=\"1\" class=\"dataframe\">\n",
       "  <thead>\n",
       "    <tr style=\"text-align: right;\">\n",
       "      <th></th>\n",
       "      <th>Length</th>\n",
       "      <th>Diameter</th>\n",
       "      <th>Height</th>\n",
       "      <th>Whole_weight</th>\n",
       "      <th>Viscera_weight</th>\n",
       "      <th>Shell_weight</th>\n",
       "      <th>Rings</th>\n",
       "    </tr>\n",
       "  </thead>\n",
       "  <tbody>\n",
       "    <tr>\n",
       "      <th>3341</th>\n",
       "      <td>0.040719</td>\n",
       "      <td>0.032409</td>\n",
       "      <td>0.011219</td>\n",
       "      <td>0.049029</td>\n",
       "      <td>0.010388</td>\n",
       "      <td>0.015332</td>\n",
       "      <td>12.0</td>\n",
       "    </tr>\n",
       "    <tr>\n",
       "      <th>3342</th>\n",
       "      <td>0.030680</td>\n",
       "      <td>0.023545</td>\n",
       "      <td>0.006778</td>\n",
       "      <td>0.024259</td>\n",
       "      <td>0.006065</td>\n",
       "      <td>0.007991</td>\n",
       "      <td>14.0</td>\n",
       "    </tr>\n",
       "    <tr>\n",
       "      <th>3343</th>\n",
       "      <td>0.034946</td>\n",
       "      <td>0.028034</td>\n",
       "      <td>0.008449</td>\n",
       "      <td>0.029570</td>\n",
       "      <td>0.003533</td>\n",
       "      <td>0.010330</td>\n",
       "      <td>13.0</td>\n",
       "    </tr>\n",
       "    <tr>\n",
       "      <th>3344</th>\n",
       "      <td>0.037995</td>\n",
       "      <td>0.029168</td>\n",
       "      <td>0.011130</td>\n",
       "      <td>0.039530</td>\n",
       "      <td>0.007522</td>\n",
       "      <td>0.016273</td>\n",
       "      <td>13.0</td>\n",
       "    </tr>\n",
       "    <tr>\n",
       "      <th>3345</th>\n",
       "      <td>0.039887</td>\n",
       "      <td>0.031577</td>\n",
       "      <td>0.012049</td>\n",
       "      <td>0.049028</td>\n",
       "      <td>0.011717</td>\n",
       "      <td>0.019113</td>\n",
       "      <td>12.0</td>\n",
       "    </tr>\n",
       "    <tr>\n",
       "      <th>...</th>\n",
       "      <td>...</td>\n",
       "      <td>...</td>\n",
       "      <td>...</td>\n",
       "      <td>...</td>\n",
       "      <td>...</td>\n",
       "      <td>...</td>\n",
       "      <td>...</td>\n",
       "    </tr>\n",
       "    <tr>\n",
       "      <th>4172</th>\n",
       "      <td>0.051058</td>\n",
       "      <td>0.040665</td>\n",
       "      <td>0.014911</td>\n",
       "      <td>0.080156</td>\n",
       "      <td>0.021598</td>\n",
       "      <td>0.022501</td>\n",
       "      <td>11.0</td>\n",
       "    </tr>\n",
       "    <tr>\n",
       "      <th>4173</th>\n",
       "      <td>0.058532</td>\n",
       "      <td>0.043651</td>\n",
       "      <td>0.013393</td>\n",
       "      <td>0.095833</td>\n",
       "      <td>0.021280</td>\n",
       "      <td>0.025843</td>\n",
       "      <td>10.0</td>\n",
       "    </tr>\n",
       "    <tr>\n",
       "      <th>4174</th>\n",
       "      <td>0.065784</td>\n",
       "      <td>0.052079</td>\n",
       "      <td>0.022476</td>\n",
       "      <td>0.128937</td>\n",
       "      <td>0.031522</td>\n",
       "      <td>0.033769</td>\n",
       "      <td>9.0</td>\n",
       "    </tr>\n",
       "    <tr>\n",
       "      <th>4175</th>\n",
       "      <td>0.061884</td>\n",
       "      <td>0.048022</td>\n",
       "      <td>0.014852</td>\n",
       "      <td>0.108371</td>\n",
       "      <td>0.025843</td>\n",
       "      <td>0.029308</td>\n",
       "      <td>10.0</td>\n",
       "    </tr>\n",
       "    <tr>\n",
       "      <th>4176</th>\n",
       "      <td>0.058159</td>\n",
       "      <td>0.045462</td>\n",
       "      <td>0.015973</td>\n",
       "      <td>0.159609</td>\n",
       "      <td>0.030841</td>\n",
       "      <td>0.040547</td>\n",
       "      <td>12.0</td>\n",
       "    </tr>\n",
       "  </tbody>\n",
       "</table>\n",
       "<p>836 rows × 7 columns</p>\n",
       "</div>"
      ],
      "text/plain": [
       "        Length  Diameter    Height  Whole_weight  Viscera_weight  \\\n",
       "3341  0.040719  0.032409  0.011219      0.049029        0.010388   \n",
       "3342  0.030680  0.023545  0.006778      0.024259        0.006065   \n",
       "3343  0.034946  0.028034  0.008449      0.029570        0.003533   \n",
       "3344  0.037995  0.029168  0.011130      0.039530        0.007522   \n",
       "3345  0.039887  0.031577  0.012049      0.049028        0.011717   \n",
       "...        ...       ...       ...           ...             ...   \n",
       "4172  0.051058  0.040665  0.014911      0.080156        0.021598   \n",
       "4173  0.058532  0.043651  0.013393      0.095833        0.021280   \n",
       "4174  0.065784  0.052079  0.022476      0.128937        0.031522   \n",
       "4175  0.061884  0.048022  0.014852      0.108371        0.025843   \n",
       "4176  0.058159  0.045462  0.015973      0.159609        0.030841   \n",
       "\n",
       "      Shell_weight  Rings  \n",
       "3341      0.015332   12.0  \n",
       "3342      0.007991   14.0  \n",
       "3343      0.010330   13.0  \n",
       "3344      0.016273   13.0  \n",
       "3345      0.019113   12.0  \n",
       "...            ...    ...  \n",
       "4172      0.022501   11.0  \n",
       "4173      0.025843   10.0  \n",
       "4174      0.033769    9.0  \n",
       "4175      0.029308   10.0  \n",
       "4176      0.040547   12.0  \n",
       "\n",
       "[836 rows x 7 columns]"
      ]
     },
     "execution_count": 55,
     "metadata": {},
     "output_type": "execute_result"
    }
   ],
   "source": [
    "# Menampilkan data test yang dibagi\n",
    "data_test"
   ]
  },
  {
   "cell_type": "code",
   "execution_count": 57,
   "id": "Ro32_5jF4y0c",
   "metadata": {
    "id": "Ro32_5jF4y0c"
   },
   "outputs": [],
   "source": [
    "# Mengganti format data menjadi numpy array dimana index terakhir merupakan target\n",
    "train_data = data_train.to_numpy()\n",
    "test_data = data_test.to_numpy()"
   ]
  },
  {
   "cell_type": "code",
   "execution_count": 59,
   "id": "ZapuviZ6sLF3",
   "metadata": {
    "colab": {
     "base_uri": "https://localhost:8080/"
    },
    "id": "ZapuviZ6sLF3",
    "outputId": "bff7e2a7-e1b9-46c5-cd37-bd56d460b775"
   },
   "outputs": [
    {
     "data": {
      "text/plain": [
       "array([[3.02898701e-02, 2.42984673e-02, 6.32425860e-03, ...,\n",
       "        6.72368546e-03, 9.98567148e-03, 1.50000000e+01],\n",
       "       [4.98684154e-02, 3.77575145e-02, 1.28233068e-02, ...,\n",
       "        6.91033756e-03, 9.97368308e-03, 7.00000000e+00],\n",
       "       [5.85294311e-02, 4.63818133e-02, 1.49084400e-02, ...,\n",
       "        1.56262538e-02, 2.31909067e-02, 9.00000000e+00],\n",
       "       ...,\n",
       "       [4.38183931e-02, 3.35834400e-02, 1.11944800e-02, ...,\n",
       "        1.97662533e-02, 3.71017051e-02, 1.55000000e+01],\n",
       "       [4.85072512e-02, 3.93862296e-02, 1.53398999e-02, ...,\n",
       "        1.48009305e-02, 2.28025540e-02, 1.20000000e+01],\n",
       "       [3.47260888e-02, 2.79737938e-02, 9.32459792e-03, ...,\n",
       "        1.41476658e-02, 1.69771990e-02, 1.55000000e+01]])"
      ]
     },
     "execution_count": 59,
     "metadata": {},
     "output_type": "execute_result"
    }
   ],
   "source": [
    "train_data"
   ]
  },
  {
   "cell_type": "code",
   "execution_count": 61,
   "id": "8ibQbaYwsN_r",
   "metadata": {
    "colab": {
     "base_uri": "https://localhost:8080/"
    },
    "id": "8ibQbaYwsN_r",
    "outputId": "6ad0835e-deb6-423d-925e-0c93f65c287d"
   },
   "outputs": [
    {
     "data": {
      "text/plain": [
       "array([[4.07192263e-02, 3.24091801e-02, 1.12185623e-02, ...,\n",
       "        1.03875577e-02, 1.53320352e-02, 1.20000000e+01],\n",
       "       [3.06800095e-02, 2.35451235e-02, 6.77814163e-03, ...,\n",
       "        6.06465303e-03, 7.99107223e-03, 1.40000000e+01],\n",
       "       [3.49461973e-02, 2.80337626e-02, 8.44853121e-03, ...,\n",
       "        3.53302214e-03, 1.03302495e-02, 1.30000000e+01],\n",
       "       ...,\n",
       "       [6.57840378e-02, 5.20790300e-02, 2.24762129e-02, ...,\n",
       "        3.15215181e-02, 3.37691394e-02, 9.00000000e+00],\n",
       "       [6.18836095e-02, 4.80216810e-02, 1.48520663e-02, ...,\n",
       "        2.58425953e-02, 2.93080775e-02, 1.00000000e+01],\n",
       "       [5.81589132e-02, 4.54622491e-02, 1.59732226e-02, ...,\n",
       "        3.08406068e-02, 4.05474113e-02, 1.20000000e+01]])"
      ]
     },
     "execution_count": 61,
     "metadata": {},
     "output_type": "execute_result"
    }
   ],
   "source": [
    "test_data"
   ]
  },
  {
   "cell_type": "markdown",
   "id": "691b437e",
   "metadata": {
    "id": "691b437e"
   },
   "source": [
    "#### Metode yang Digunakan\n",
    "\n",
    "Metode yang kami gunakan adalah menggunakan k-Nearest Neighbors Regression dengan parameter weight menggunakan distance euclidean dan akan dilakukan pencarian k yang optimal menggunakan elbow method\n",
    "\n",
    "setelah menemukan parameter yang sesuai akan dilakukan k-Fold Cross-Validation untuk melihat apakah model yang digunakan dapat mengatasi data validation yang berbeda\n",
    "\n",
    "lalu akan dilakukan model testing terhadap data test yang sudah dibagi diawal dan melakukan evaluasi perfomansi model"
   ]
  },
  {
   "cell_type": "markdown",
   "id": "R_0Mxr6d5GAf",
   "metadata": {
    "id": "R_0Mxr6d5GAf"
   },
   "source": [
    "**Experiment Settings**"
   ]
  },
  {
   "cell_type": "code",
   "execution_count": 65,
   "id": "348c59c4",
   "metadata": {
    "id": "348c59c4"
   },
   "outputs": [],
   "source": [
    "# Fungsi untuk menghitung jarak antar data\n",
    "def evaluate_distance(known_data, unknown_data): # data train, data test\n",
    "    distances = []\n",
    "    for i in range(len(known_data)):\n",
    "        sumValue = 0\n",
    "        for j in range(len(known_data[i])):\n",
    "            diff = (unknown_data[j] - known_data[i][j]) ** 2\n",
    "            sumValue += diff\n",
    "        distances.append(math.sqrt(sumValue))\n",
    "    return distances"
   ]
  },
  {
   "cell_type": "code",
   "execution_count": 67,
   "id": "X4Apf7m871m4",
   "metadata": {
    "id": "X4Apf7m871m4"
   },
   "outputs": [],
   "source": [
    "# Fungsi untuk prediksi nilai target pada test_data\n",
    "# dengan menghitung jarak untuk setiap baris train_data\n",
    "# Memilih data sebanyak K paling dekat dengan target train_data\n",
    "# kemudian mengambil nilai rata-ratanya untuk dijadikan predicted value\n",
    "def predict(train_data, test_data, kNeighbor):\n",
    "    distances = evaluate_distance(train_data[:,0:-1], test_data[0:-1])\n",
    "    distances_with_index = []\n",
    "    for index, distance in enumerate(distances):\n",
    "        distances_with_index.append((distance, index))\n",
    "    sorted_distances = sorted(distances_with_index)\n",
    "    sumValue = 0\n",
    "    for distance_value, index in sorted_distances[0:kNeighbor]:\n",
    "        sumValue += train_data[index][-1]\n",
    "    predicted_value = sumValue/kNeighbor\n",
    "    return predicted_value\n"
   ]
  },
  {
   "cell_type": "code",
   "execution_count": 69,
   "id": "a28YxyDj87V5",
   "metadata": {
    "id": "a28YxyDj87V5"
   },
   "outputs": [],
   "source": [
    "# Fungsi untuk melakukan prediksi untuk setiap test_data\n",
    "def build_model(X, y, neighbors):\n",
    "    predictions = []\n",
    "    for i in range(len(y)):\n",
    "        predicted_value = predict(X, y[i], neighbors)\n",
    "        predictions.append(predicted_value)\n",
    "    return predictions"
   ]
  },
  {
   "cell_type": "code",
   "execution_count": 71,
   "id": "RQjXjsWQ9tad",
   "metadata": {
    "colab": {
     "base_uri": "https://localhost:8080/"
    },
    "id": "RQjXjsWQ9tad",
    "outputId": "67b82416-4e39-42b6-e5ab-c658a523e948"
   },
   "outputs": [
    {
     "name": "stdout",
     "output_type": "stream",
     "text": [
      "[+] using 1-Neighbors to KNN...\n",
      "0.9097358993238127\n",
      "0.7389537411631038\n",
      "[+] using 2-Neighbors to KNN...\n",
      "0.9283720252575053\n",
      "0.6582654457961367\n",
      "[+] using 3-Neighbors to KNN...\n",
      "0.9349905138369629\n",
      "0.6271163000601799\n",
      "[+] using 4-Neighbors to KNN...\n",
      "0.939253397196906\n",
      "0.6062066834522702\n",
      "[+] using 5-Neighbors to KNN...\n",
      "0.941329323214374\n",
      "0.5957585330191014\n",
      "[+] using 6-Neighbors to KNN...\n",
      "0.9431606397804841\n",
      "0.5863869720762337\n",
      "[+] using 7-Neighbors to KNN...\n",
      "0.9440532866397019\n",
      "0.581764225692401\n",
      "[+] using 8-Neighbors to KNN...\n",
      "0.9450401120300967\n",
      "0.576610626500502\n",
      "[+] using 9-Neighbors to KNN...\n",
      "0.9446860350966994\n",
      "0.5784650402777658\n",
      "[+] using 10-Neighbors to KNN...\n",
      "0.9451653003296381\n",
      "0.575953546771159\n",
      "[+] using 11-Neighbors to KNN...\n",
      "0.9453147749938338\n",
      "0.575168011221511\n",
      "[+] using 12-Neighbors to KNN...\n",
      "0.9454142900670058\n",
      "0.5746444333215756\n",
      "[+] using 13-Neighbors to KNN...\n",
      "0.9451961065510267\n",
      "0.5757917382331066\n",
      "[+] using 14-Neighbors to KNN...\n",
      "0.9448641341587407\n",
      "0.5775330229843465\n",
      "[+] using 15-Neighbors to KNN...\n",
      "0.9446749279973775\n",
      "0.5785231155410396\n"
     ]
    }
   ],
   "source": [
    "# Melakukan Elbow Method untuk mencari parameter neighbor terbaik\n",
    "rmse_rates = []\n",
    "r2_rates = []\n",
    "k_values = range(1, 16)\n",
    "\n",
    "for k in k_values:\n",
    "    print(f'[+] using {k}-Neighbors to KNN...')\n",
    "    predictions = build_model(train_data, test_data, k)\n",
    "    r2 = r2_score(test_data[:,-1], np.array(predictions))\n",
    "    rmse = np.sqrt(mean_squared_error(test_data[:,-1], np.array(predictions)))\n",
    "    print(r2)\n",
    "    print(rmse)\n",
    "\n",
    "    rmse_rates.append(rmse)\n",
    "    r2_rates.append(r2)"
   ]
  },
  {
   "cell_type": "code",
   "execution_count": 72,
   "id": "Ulh08Np0-L3a",
   "metadata": {
    "colab": {
     "base_uri": "https://localhost:8080/",
     "height": 564
    },
    "id": "Ulh08Np0-L3a",
    "outputId": "1db5c4f0-8e16-4647-932b-29ef2d365bec"
   },
   "outputs": [
    {
     "data": {
      "image/png": "[encoded data removed]",
      "text/plain": [
       "<Figure size 1500x600 with 1 Axes>"
      ]
     },
     "metadata": {},
     "output_type": "display_data"
    }
   ],
   "source": [
    "# Menampilkan scatter plot rmse dan r2 untuk melihat K-neighbors yang optimal\n",
    "plt.figure(figsize=(15, 6))\n",
    "\n",
    "plt.plot(k_values, rmse_rates, color='blue', marker='o')\n",
    "plt.plot(k_values, r2_rates, color='red', marker='o')\n",
    "\n",
    "plt.title('Elbow Method to Determine Optimal k')\n",
    "plt.xlabel('Number of Neighbors (k)')\n",
    "plt.ylabel('Mean Squared Error')\n",
    "\n",
    "plt.show()"
   ]
  },
  {
   "cell_type": "markdown",
   "id": "Xkr9cdLAgS0v",
   "metadata": {
    "id": "Xkr9cdLAgS0v"
   },
   "source": [
    "**K-Fold Cross-Validation**\n"
   ]
  },
  {
   "cell_type": "code",
   "execution_count": 76,
   "id": "gYnuAYw9gXr3",
   "metadata": {
    "id": "gYnuAYw9gXr3"
   },
   "outputs": [],
   "source": [
    "# Fungsi untuk menentukan index dari data training dan data validation\n",
    "# untuk setiap fold\n",
    "# untuk mengecek apakah model baik dalam menangani data yang bervariasi\n",
    "def kfold_fit(train_data, fold):\n",
    "  number_of_folds = fold\n",
    "  number_per_fold = len(train_data) // number_of_folds\n",
    "  fold_split_index = []\n",
    "\n",
    "  indices = np.arange(len(train_data))\n",
    "\n",
    "  for i in range(number_of_folds):\n",
    "      start_index_val = number_per_fold * i\n",
    "      end_index_val = start_index_val + number_per_fold\n",
    "\n",
    "      if i == number_of_folds - 1:\n",
    "          end_index_val = len(train_data)\n",
    "\n",
    "      val_index = indices[start_index_val:end_index_val]\n",
    "      mask = np.isin(indices, val_index, invert=True)\n",
    "      train_index = indices[mask]\n",
    "\n",
    "      fold_split_index.append((train_index, val_index))\n",
    "\n",
    "  return fold_split_index"
   ]
  },
  {
   "cell_type": "code",
   "execution_count": 78,
   "id": "pJVdYiKn1lkN",
   "metadata": {
    "colab": {
     "base_uri": "https://localhost:8080/"
    },
    "id": "pJVdYiKn1lkN",
    "outputId": "3ce0949e-e2ec-4154-e2eb-35f4f84a24b8"
   },
   "outputs": [
    {
     "name": "stdout",
     "output_type": "stream",
     "text": [
      "Val start index: 0\n",
      "\n",
      "Val start index: 668\n",
      "\n",
      "Val start index: 1336\n",
      "\n",
      "Val start index: 2004\n",
      "\n",
      "Val start index: 2672\n",
      "\n"
     ]
    }
   ],
   "source": [
    "fold_split_index = kfold_fit(train_data, 5)\n",
    "for train_index, val_index in fold_split_index:\n",
    "  print(f\"Val start index: {val_index.min()}\\n\")"
   ]
  },
  {
   "cell_type": "code",
   "execution_count": 80,
   "id": "pf6v1G5JW6kX",
   "metadata": {
    "id": "pf6v1G5JW6kX"
   },
   "outputs": [],
   "source": [
    "def kfold_predict(train_data, fold_split_index):\n",
    "  total_rmse = 0\n",
    "  total_r2 = 0\n",
    "  neighbors = 8\n",
    "  number_of_folds = 5\n",
    "  for i, (train_index, val_index) in enumerate(fold_split_index):\n",
    "      train_fold = train_data[train_index, :]\n",
    "      val_fold = train_data[val_index, :]\n",
    "      # Fit the model\n",
    "      predictions = build_model(train_fold, val_fold, neighbors)\n",
    "      r2 = r2_score(val_fold[:,-1], predictions)\n",
    "      rmse = np.sqrt(mean_squared_error(val_fold[:,-1], predictions))\n",
    "      total_r2 += r2\n",
    "      total_rmse += rmse\n",
    "      print(f'RMSE fold ke-{i + 1}: {rmse}')\n",
    "      print(f'R2 fold ke-{i + 1}: {r2}')\n",
    "  print('\\nRata-rata RMSE:', total_rmse / number_of_folds)\n",
    "  print('\\nRata-rata R2:', total_r2 / number_of_folds)"
   ]
  },
  {
   "cell_type": "code",
   "execution_count": 82,
   "id": "JP7Q39uFcPfm",
   "metadata": {
    "colab": {
     "base_uri": "https://localhost:8080/"
    },
    "id": "JP7Q39uFcPfm",
    "outputId": "db468955-d3a4-4fce-91b9-29fb4213d39d"
   },
   "outputs": [
    {
     "name": "stdout",
     "output_type": "stream",
     "text": [
      "RMSE fold ke-1: 0.5961678630077551\n",
      "R2 fold ke-1: 0.9665466066691653\n",
      "RMSE fold ke-2: 0.5739896502879861\n",
      "R2 fold ke-2: 0.952057298195196\n",
      "RMSE fold ke-3: 0.6023351126649531\n",
      "R2 fold ke-3: 0.9007493128343869\n",
      "RMSE fold ke-4: 0.6084206310575005\n",
      "R2 fold ke-4: 0.9619266240009792\n",
      "RMSE fold ke-5: 0.5698275018927249\n",
      "R2 fold ke-5: 0.9502952383287522\n",
      "\n",
      "Rata-rata RMSE: 0.5901481517821839\n",
      "\n",
      "Rata-rata R2: 0.9463150160056959\n"
     ]
    }
   ],
   "source": [
    "fold_split_index = kfold_fit(train_data, 5)\n",
    "kfold_predict(train_data, fold_split_index)"
   ]
  },
  {
   "cell_type": "markdown",
   "id": "gtJ2Mmn4-lnR",
   "metadata": {
    "id": "gtJ2Mmn4-lnR"
   },
   "source": [
    "**Model Testing**"
   ]
  },
  {
   "cell_type": "code",
   "execution_count": 85,
   "id": "27ae8626",
   "metadata": {
    "id": "27ae8626"
   },
   "outputs": [],
   "source": [
    "# Melakukan prediksi menggunakan K optimal\n",
    "predictions = build_model(train_data, test_data, 8)"
   ]
  },
  {
   "cell_type": "markdown",
   "id": "EOHc5r0YhKka",
   "metadata": {
    "id": "EOHc5r0YhKka"
   },
   "source": [
    "**Evaluation Performance**"
   ]
  },
  {
   "cell_type": "code",
   "execution_count": 88,
   "id": "9SHkUSf9cfI1",
   "metadata": {
    "colab": {
     "base_uri": "https://localhost:8080/"
    },
    "id": "9SHkUSf9cfI1",
    "outputId": "53065eaa-d163-4dae-c542-54ee56105c12"
   },
   "outputs": [
    {
     "name": "stdout",
     "output_type": "stream",
     "text": [
      "R2:  0.9450401120300967\n",
      "MSE:  0.33247981459330145\n",
      "RMSE:  0.576610626500502\n"
     ]
    }
   ],
   "source": [
    "r2 = r2_score(test_data[:,-1], np.array(predictions))\n",
    "print('R2: ', r2)\n",
    "mse = mean_squared_error(test_data[:,-1], np.array(predictions))\n",
    "print('MSE: ', mse)\n",
    "rmse = np.sqrt(mse)\n",
    "print('RMSE: ', rmse)"
   ]
  },
  {
   "cell_type": "code",
   "execution_count": 90,
   "id": "_p2M8nuMdLHv",
   "metadata": {
    "id": "_p2M8nuMdLHv"
   },
   "outputs": [],
   "source": [
    "pred_table = pd.DataFrame({\n",
    "    'actual_age': test_data[:,-1],\n",
    "    'predictions': predictions\n",
    "})"
   ]
  },
  {
   "cell_type": "code",
   "execution_count": 92,
   "id": "od8subLidMda",
   "metadata": {
    "colab": {
     "base_uri": "https://localhost:8080/",
     "height": 424
    },
    "id": "od8subLidMda",
    "outputId": "beddfe9f-7297-4558-f6b5-8ae752c0cca1"
   },
   "outputs": [
    {
     "data": {
      "text/html": [
       "<div>\n",
       "<style scoped>\n",
       "    .dataframe tbody tr th:only-of-type {\n",
       "        vertical-align: middle;\n",
       "    }\n",
       "\n",
       "    .dataframe tbody tr th {\n",
       "        vertical-align: top;\n",
       "    }\n",
       "\n",
       "    .dataframe thead th {\n",
       "        text-align: right;\n",
       "    }\n",
       "</style>\n",
       "<table border=\"1\" class=\"dataframe\">\n",
       "  <thead>\n",
       "    <tr style=\"text-align: right;\">\n",
       "      <th></th>\n",
       "      <th>actual_age</th>\n",
       "      <th>predictions</th>\n",
       "    </tr>\n",
       "  </thead>\n",
       "  <tbody>\n",
       "    <tr>\n",
       "      <th>0</th>\n",
       "      <td>12.0</td>\n",
       "      <td>11.8750</td>\n",
       "    </tr>\n",
       "    <tr>\n",
       "      <th>1</th>\n",
       "      <td>14.0</td>\n",
       "      <td>12.5625</td>\n",
       "    </tr>\n",
       "    <tr>\n",
       "      <th>2</th>\n",
       "      <td>13.0</td>\n",
       "      <td>11.8750</td>\n",
       "    </tr>\n",
       "    <tr>\n",
       "      <th>3</th>\n",
       "      <td>13.0</td>\n",
       "      <td>12.6250</td>\n",
       "    </tr>\n",
       "    <tr>\n",
       "      <th>4</th>\n",
       "      <td>12.0</td>\n",
       "      <td>12.3750</td>\n",
       "    </tr>\n",
       "    <tr>\n",
       "      <th>...</th>\n",
       "      <td>...</td>\n",
       "      <td>...</td>\n",
       "    </tr>\n",
       "    <tr>\n",
       "      <th>831</th>\n",
       "      <td>11.0</td>\n",
       "      <td>10.6250</td>\n",
       "    </tr>\n",
       "    <tr>\n",
       "      <th>832</th>\n",
       "      <td>10.0</td>\n",
       "      <td>10.3750</td>\n",
       "    </tr>\n",
       "    <tr>\n",
       "      <th>833</th>\n",
       "      <td>9.0</td>\n",
       "      <td>9.2500</td>\n",
       "    </tr>\n",
       "    <tr>\n",
       "      <th>834</th>\n",
       "      <td>10.0</td>\n",
       "      <td>9.8750</td>\n",
       "    </tr>\n",
       "    <tr>\n",
       "      <th>835</th>\n",
       "      <td>12.0</td>\n",
       "      <td>12.2500</td>\n",
       "    </tr>\n",
       "  </tbody>\n",
       "</table>\n",
       "<p>836 rows × 2 columns</p>\n",
       "</div>"
      ],
      "text/plain": [
       "     actual_age  predictions\n",
       "0          12.0      11.8750\n",
       "1          14.0      12.5625\n",
       "2          13.0      11.8750\n",
       "3          13.0      12.6250\n",
       "4          12.0      12.3750\n",
       "..          ...          ...\n",
       "831        11.0      10.6250\n",
       "832        10.0      10.3750\n",
       "833         9.0       9.2500\n",
       "834        10.0       9.8750\n",
       "835        12.0      12.2500\n",
       "\n",
       "[836 rows x 2 columns]"
      ]
     },
     "execution_count": 92,
     "metadata": {},
     "output_type": "execute_result"
    }
   ],
   "source": [
    "pred_table"
   ]
  },
  {
   "cell_type": "code",
   "execution_count": 94,
   "id": "xHu7NaXKdPmL",
   "metadata": {
    "colab": {
     "base_uri": "https://localhost:8080/",
     "height": 872
    },
    "id": "xHu7NaXKdPmL",
    "outputId": "c8f8e4aa-e1cd-4cdc-909b-437b97b5fe7a"
   },
   "outputs": [
    {
     "data": {
      "image/png": "[encoded data removed]",
      "text/plain": [
       "<Figure size 1500x1000 with 1 Axes>"
      ]
     },
     "metadata": {},
     "output_type": "display_data"
    }
   ],
   "source": [
    "pred_100th = pred_table.head(150)\n",
    "plt.figure(figsize=(15, 10))\n",
    "plt.scatter(pred_100th.index, pred_100th['actual_age'], label='Actual Age', color='blue', marker='o')\n",
    "plt.scatter(pred_100th.index, pred_100th['predictions'], label='Predictions', color='red', marker='x')\n",
    "for i in range(len(pred_100th)):\n",
    "    plt.plot([pred_100th.index[i], pred_100th.index[i]],\n",
    "             [pred_100th['actual_age'].iloc[i], pred_100th['predictions'].iloc[i]],\n",
    "             color='gray', linestyle='--', alpha=0.7)\n",
    "plt.xlabel('Index')\n",
    "plt.ylabel('Age')\n",
    "plt.title('Actual Age vs Predictions (First 150 Data Points)')\n",
    "plt.legend()\n",
    "plt.show()"
   ]
  },
  {
   "cell_type": "markdown",
   "id": "c5526cf7",
   "metadata": {
    "id": "c5526cf7"
   },
   "source": [
    "#### Hasil dan Analisis\n",
    "\n",
    "\n",
    "Dengan menggunakan model K-Nearest Neighbors Regression, pada model testing hasil prediksi yang dilakukan oleh model tersebut menunjukkan nilai evaluasi metriks yang bagus dengan nilai R2 adalah 0.94, MSE adalah 0.33, dan RMSE adalah 0.57.\n",
    "\n",
    "Hasil ini juga dapat dilihat dari pred table yang menunjukkan bahwa nilai actual dan predictions tidak jauh berbeda dan dapat dilihat pada scatter plot yang telah ditunjukkan untuk 150 data prediksi pertama dengan error paling besar adalah ±2 yang mana untuk prediksi umur cukup dapat diterima.\n",
    "\n",
    "Model ini juga dapat menangani nilai data train dan validation yang bervariasi yang mana dapat dilihat saat melakukan K-Fold Cross Validation dengan rata-rata R2 0.94 dan RMSE 0.59"
   ]
  },
  {
   "cell_type": "markdown",
   "id": "8a255fe5",
   "metadata": {
    "id": "8a255fe5"
   },
   "source": [
    "#### Kesimpulan\n",
    "\n",
    "Secara keseluruhan, hasil analisis ini menunjukkan bahwa model K-Nearest Neighbors Regression yang telah dibangun memiliki kinerja yang sangat baik dalam memprediksi nilai target pada data uji, dengan kemampuan untuk menangani variasi dalam data dan memberikan hasil prediksi yang baik. Meskipun model ini dapat dikatakan bagus, masih terdapat beberapa error pada prediksi.\n",
    "\n",
    "Meskipun demikian, perlu dicatat bahwa error pada prediksi tersebut masih dapat diterima, terutama dalam konteks prediksi umur abalon."
   ]
  }
 ],
 "metadata": {
  "colab": {
   "provenance": []
  },
  "kernelspec": {
   "display_name": "Python 3 (ipykernel)",
   "language": "python",
   "name": "python3"
  },
  "language_info": {
   "codemirror_mode": {
    "name": "ipython",
    "version": 3
   },
   "file_extension": ".py",
   "mimetype": "text/x-python",
   "name": "python",
   "nbconvert_exporter": "python",
   "pygments_lexer": "ipython3",
   "version": "3.11.7"
  }
 },
 "nbformat": 4,
 "nbformat_minor": 5
}
